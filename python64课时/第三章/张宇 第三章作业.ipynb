{
 "cells": [
  {
   "cell_type": "markdown",
   "metadata": {},
   "source": [
    "# 填空题\n"
   ]
  },
  {
   "cell_type": "markdown",
   "metadata": {},
   "source": [
    "(1)一般而言，`if、while、for`语句的行末尾要使用(:)。(标点符号)\n",
    "\n",
    "(2) 下列程序的输出结果是(True):\n",
    "\n",
    "`a = 3\n",
    "b=3\n",
    "print(a is b)`"
   ]
  },
  {
   "cell_type": "code",
   "execution_count": 1,
   "metadata": {},
   "outputs": [
    {
     "name": "stdout",
     "output_type": "stream",
     "text": [
      "True\n"
     ]
    }
   ],
   "source": [
    "a = 3\n",
    "b = 3\n",
    "print(a is b)"
   ]
  },
  {
   "cell_type": "markdown",
   "metadata": {},
   "source": [
    "(3)`range(1,10,3)`的值是([1,4,7])。"
   ]
  },
  {
   "cell_type": "code",
   "execution_count": 2,
   "metadata": {},
   "outputs": [
    {
     "data": {
      "text/plain": [
       "[1, 4, 7]"
      ]
     },
     "execution_count": 2,
     "metadata": {},
     "output_type": "execute_result"
    }
   ],
   "source": [
    "list(range(1,10,3))"
   ]
  },
  {
   "cell_type": "markdown",
   "metadata": {},
   "source": [
    "(4)`[x**3 for x in [1,2,3,4,5]]`的结果是([1,8,27,64,125])。"
   ]
  },
  {
   "cell_type": "code",
   "execution_count": 3,
   "metadata": {},
   "outputs": [
    {
     "data": {
      "text/plain": [
       "[1, 8, 27, 64, 125]"
      ]
     },
     "execution_count": 3,
     "metadata": {},
     "output_type": "execute_result"
    }
   ],
   "source": [
    "list(x**3 for x in [1,2,3,4,5])"
   ]
  },
  {
   "cell_type": "markdown",
   "metadata": {},
   "source": [
    "(5)下列程序的运行结果是($\\quad$):\n",
    "\n",
    "`str1 = \"E:\\tjpu\\yhl\\test.txt\"\n",
    "for i in str1:\n",
    "    if i!=\"\\\\\":\n",
    "        print(i,end='')\n",
    "`"
   ]
  },
  {
   "cell_type": "code",
   "execution_count": 4,
   "metadata": {},
   "outputs": [
    {
     "name": "stdout",
     "output_type": "stream",
     "text": [
      "E:\tjpuyhl\test.txt"
     ]
    }
   ],
   "source": [
    "strl = 'E:\\tjpu\\yhl\\test.txt'\n",
    "for i in strl:\n",
    "    if i!='\\\\':\n",
    "        print(i,end='')"
   ]
  },
  {
   "cell_type": "markdown",
   "metadata": {},
   "source": [
    "# 选择题"
   ]
  },
  {
   "cell_type": "markdown",
   "metadata": {},
   "source": [
    "(1)执行下列语句后的显示结果是(A\n",
    "\n",
    "`world=\"world\"\n",
    "print(\"hello\"+ world)\n",
    "`\n",
    "\n",
    "`\n",
    "A.helloworld               B.\"hello\"world\n",
    " C.hello world              D.语法错误\n",
    "`"
   ]
  },
  {
   "cell_type": "code",
   "execution_count": 5,
   "metadata": {},
   "outputs": [
    {
     "name": "stdout",
     "output_type": "stream",
     "text": [
      "helloworld\n"
     ]
    }
   ],
   "source": [
    "world='world'\n",
    "print('hello'+world)"
   ]
  },
  {
   "cell_type": "markdown",
   "metadata": {},
   "source": [
    "(2)下列Python语句中正确的是(  A)。\n",
    "\n",
    "`A.(min=x if x<y) else y\n",
    "B.max==x>y?x:y\n",
    "C.if(x>y)     print x\n",
    "D.while True:\n",
    "    pass\n",
    "`"
   ]
  },
  {
   "cell_type": "code",
   "execution_count": null,
   "metadata": {},
   "outputs": [],
   "source": []
  },
  {
   "cell_type": "markdown",
   "metadata": {},
   "source": [
    "(3)已知`x=43,y=False;`则表达式`(x>=y and 'A'<'B' and not y )`的值是(A )。\n",
    "\n",
    "`\n",
    "A.True\n",
    "B.语法错\n",
    "C.True\n",
    "D.假\n",
    "`"
   ]
  },
  {
   "cell_type": "code",
   "execution_count": null,
   "metadata": {},
   "outputs": [],
   "source": []
  },
  {
   "cell_type": "markdown",
   "metadata": {},
   "source": [
    "(4)以下程序的输出结果是(提示:`ord('a')==97`) A\n",
    "\n",
    "`lista = [1,2,3,4,5,'a','b','c','d','e']\n",
    "print(lista[2] + ord(lista[5])`\n",
    "\n",
    "`\n",
    "A.100\n",
    "B.'d'\n",
    "C.d\n",
    "D.TypeError\n",
    "`\n"
   ]
  },
  {
   "cell_type": "code",
   "execution_count": 6,
   "metadata": {},
   "outputs": [
    {
     "name": "stdout",
     "output_type": "stream",
     "text": [
      "100\n"
     ]
    }
   ],
   "source": [
    "lista = [1,2,3,4,5,'a','b','c','d','e']\n",
    "print(lista[2]+ord(lista[5]))"
   ]
  },
  {
   "cell_type": "markdown",
   "metadata": {},
   "source": [
    "(5)下面那个语句在Python中是非法的？(B)。\n",
    "\n",
    "`\n",
    "A.x=y=z=1\n",
    "B.x=(y=z+1)\n",
    "C.x,y=y,x\n",
    "D.x+=y\n",
    "`"
   ]
  },
  {
   "cell_type": "code",
   "execution_count": null,
   "metadata": {},
   "outputs": [],
   "source": []
  },
  {
   "cell_type": "markdown",
   "metadata": {},
   "source": [
    "(6)下面的循环体执行的次数与其他不同的是(D)。\n",
    "\n",
    "`\n",
    "A.\n",
    "    i=0\n",
    "    while(i<=100):\n",
    "        print(i)\n",
    "        i=i+1\n",
    "B.\n",
    "    for i in range(100):\n",
    "        print(i)\n",
    "C.\n",
    "    for i in range(100,0,-1):\n",
    "        print(i)\n",
    "D.\n",
    "    i = 100\n",
    "    while(i>10):\n",
    "        print(i)\n",
    "        i = i-1\n",
    "`"
   ]
  },
  {
   "cell_type": "code",
   "execution_count": null,
   "metadata": {},
   "outputs": [],
   "source": []
  },
  {
   "cell_type": "markdown",
   "metadata": {},
   "source": [
    "# 问答题"
   ]
  },
  {
   "cell_type": "markdown",
   "metadata": {},
   "source": [
    "(1) 分析逻辑运算符or的惰性求值特性。\n",
    "\n",
    "(2)Python中pass语句的作用是什么？\n",
    "\n",
    "(3)简述Pyhon中range()函数的用法。\n",
    "\n",
    "(4)Python中break、continue语句的作用是什么?\n",
    "答:(1）如果or运算符左边的表达式值为False，需要计算后面的表达式；如果or运算符左边的表达式值为True，不需要计算后面的表达式。\n",
    "（2)在Python中，pass是一个空语句，为了保持程序结构的完整性。一般情况下，pass不做任何事情，被用作占位符。\n",
    "(3)range()函数可创建一个整数列表，一般用在for循环中，函数语法为range(start,stop,step),其中start是开始计数，stop是停止，step是步长。\n",
    "(4)一旦break语句被执行，将使得整个循环提前结束。continue语句的作用是终止本次循环，并忽略continue之后的所有语句，直接回到循环顶端，提前进入下一次循环。"
   ]
  },
  {
   "cell_type": "code",
   "execution_count": null,
   "metadata": {},
   "outputs": [],
   "source": []
  },
  {
   "cell_type": "markdown",
   "metadata": {},
   "source": [
    "# 实验操作题"
   ]
  },
  {
   "cell_type": "markdown",
   "metadata": {},
   "source": [
    "1、编写输出10以内素数的循环程序."
   ]
  },
  {
   "cell_type": "code",
   "execution_count": 7,
   "metadata": {},
   "outputs": [
    {
     "name": "stdout",
     "output_type": "stream",
     "text": [
      "2\n",
      "3\n",
      "5\n",
      "7\n"
     ]
    }
   ],
   "source": [
    "for n in range(2,11):\n",
    "    for i in range(2,n):\n",
    "        if n%i ==0:\n",
    "            break\n",
    "    else:\n",
    "        print(n)\n",
    "    \n",
    "\n",
    "        "
   ]
  },
  {
   "cell_type": "markdown",
   "metadata": {},
   "source": [
    "2、使用if-elif-else语句判断输入的数字是整数、负数还是零。使用嵌套的if语句实现同样的功能。"
   ]
  },
  {
   "cell_type": "code",
   "execution_count": 1,
   "metadata": {},
   "outputs": [
    {
     "name": "stdout",
     "output_type": "stream",
     "text": [
      "请输入一个数字5\n"
     ]
    }
   ],
   "source": [
    "x = int(input('请输入一个数字:'))"
   ]
  },
  {
   "cell_type": "code",
   "execution_count": 2,
   "metadata": {},
   "outputs": [
    {
     "name": "stdout",
     "output_type": "stream",
     "text": [
      "该数为正数\n"
     ]
    }
   ],
   "source": [
    "if x>0:\n",
    "    print('该数为正数')\n",
    "elif x==0:\n",
    "    print('该数为零')\n",
    "else:\n",
    "    print('该数为负数')"
   ]
  },
  {
   "cell_type": "markdown",
   "metadata": {},
   "source": [
    "3、用if语句判断输入的一个数字是奇数还是偶数."
   ]
  },
  {
   "cell_type": "code",
   "execution_count": 8,
   "metadata": {},
   "outputs": [
    {
     "name": "stdout",
     "output_type": "stream",
     "text": [
      "请输入一个整数7\n"
     ]
    }
   ],
   "source": [
    "x = int(input('请输入一个整数'))"
   ]
  },
  {
   "cell_type": "code",
   "execution_count": 10,
   "metadata": {},
   "outputs": [
    {
     "name": "stdout",
     "output_type": "stream",
     "text": [
      "该数为奇数\n"
     ]
    }
   ],
   "source": [
    "if x%2==0:\n",
    "    print('该数为偶数')\n",
    "else:\n",
    "    print('该数为奇数')"
   ]
  },
  {
   "cell_type": "markdown",
   "metadata": {},
   "source": [
    "4、用if语句判断用户输入的年份是否为闰年."
   ]
  },
  {
   "cell_type": "code",
   "execution_count": 12,
   "metadata": {},
   "outputs": [
    {
     "name": "stdout",
     "output_type": "stream",
     "text": [
      "请输入一个四位数的年份2021\n"
     ]
    }
   ],
   "source": [
    "x = int(input('请输入一个四位数的年份'))\n",
    "\n"
   ]
  },
  {
   "cell_type": "code",
   "execution_count": 13,
   "metadata": {},
   "outputs": [
    {
     "name": "stdout",
     "output_type": "stream",
     "text": [
      "该年不是闰年\n"
     ]
    }
   ],
   "source": [
    "if x%400==0 or (x%4==0 and x%100!=0):\n",
    "    print('该年为闰年')\n",
    "else:\n",
    "    print('该年不是闰年')\n"
   ]
  },
  {
   "cell_type": "markdown",
   "metadata": {},
   "source": [
    "5、使用标准格式输出阶乘(factorial)。整数的阶乘是所有小于及等于该数的正整数的积，即:`n!=1*2*3*...*n`。0的阶乘定义为1。"
   ]
  },
  {
   "cell_type": "code",
   "execution_count": 16,
   "metadata": {},
   "outputs": [
    {
     "data": {
      "text/plain": [
       "1770"
      ]
     },
     "execution_count": 16,
     "metadata": {},
     "output_type": "execute_result"
    }
   ],
   "source": [
    "import itertools\n",
    "len(tuple(itertools.combinations(range(60),2)))"
   ]
  },
  {
   "cell_type": "markdown",
   "metadata": {},
   "source": [
    "6、改进九九乘法表,用for语句和range()函数实现。建议使用end换行。"
   ]
  },
  {
   "cell_type": "code",
   "execution_count": 15,
   "metadata": {},
   "outputs": [
    {
     "name": "stdout",
     "output_type": "stream",
     "text": [
      "1*1=1 \n",
      "2*1=2 2*2=4 \n",
      "3*1=3 3*2=6 3*3=9 \n",
      "4*1=4 4*2=8 4*3=124*4=16\n",
      "5*1=5 5*2=105*3=155*4=205*5=25\n",
      "6*1=6 6*2=126*3=186*4=246*5=306*6=36\n",
      "7*1=7 7*2=147*3=217*4=287*5=357*6=427*7=49\n",
      "8*1=8 8*2=168*3=248*4=328*5=408*6=488*7=568*8=64\n",
      "9*1=9 9*2=189*3=279*4=369*5=459*6=549*7=639*8=729*9=81\n"
     ]
    }
   ],
   "source": [
    "for i in range(1,10):\n",
    "    for j in range(1,i+1):\n",
    "        print('{0}*{1}={2}'.format(i,j,i*j).ljust(6),end='')\n",
    "    print()"
   ]
  },
  {
   "cell_type": "markdown",
   "metadata": {},
   "source": [
    "7、求制定区间内的水仙花数(亦称阿姆斯特朗数),要求使用循环语句和判断语句。\n",
    "\n",
    "如果一个$n$位正整数等于其各位数字的立方之和，则称该数为水仙花数或阿姆斯特朗数,例如$3^3+7^3+0^3=370$。1000以内的水仙花数有：153，370，371，407."
   ]
  },
  {
   "cell_type": "code",
   "execution_count": 14,
   "metadata": {},
   "outputs": [
    {
     "name": "stdout",
     "output_type": "stream",
     "text": [
      "153\n",
      "370\n",
      "371\n",
      "407\n"
     ]
    }
   ],
   "source": [
    "for i in range(10**2,10**3):\n",
    "    bai,shi,ge = map(int,str(i))\n",
    "    if bai**3+shi**3+ge**3==i:\n",
    "        print(i)"
   ]
  },
  {
   "cell_type": "code",
   "execution_count": null,
   "metadata": {},
   "outputs": [],
   "source": []
  }
 ],
 "metadata": {
  "kernelspec": {
   "display_name": "Python 3",
   "language": "python",
   "name": "python3"
  },
  "language_info": {
   "codemirror_mode": {
    "name": "ipython",
    "version": 3
   },
   "file_extension": ".py",
   "mimetype": "text/x-python",
   "name": "python",
   "nbconvert_exporter": "python",
   "pygments_lexer": "ipython3",
   "version": "3.8.5"
  },
  "toc": {
   "base_numbering": 1,
   "nav_menu": {},
   "number_sections": true,
   "sideBar": true,
   "skip_h1_title": false,
   "title_cell": "Table of Contents",
   "title_sidebar": "Contents",
   "toc_cell": false,
   "toc_position": {},
   "toc_section_display": true,
   "toc_window_display": false
  }
 },
 "nbformat": 4,
 "nbformat_minor": 4
}
