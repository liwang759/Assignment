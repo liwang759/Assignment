{
 "cells": [
  {
   "cell_type": "code",
   "execution_count": 1,
   "metadata": {},
   "outputs": [
    {
     "data": {
      "text/plain": [
       "[3, 4, 5]"
      ]
     },
     "execution_count": 1,
     "metadata": {},
     "output_type": "execute_result"
    }
   ],
   "source": [
    "list = [1,2,3,4,5,6]\n",
    "list[2:5]"
   ]
  },
  {
   "cell_type": "code",
   "execution_count": 3,
   "metadata": {},
   "outputs": [
    {
     "name": "stdout",
     "output_type": "stream",
     "text": [
      "您输入的键不存在!\n"
     ]
    }
   ],
   "source": [
    "dict = {'sa':'dhsj','wka':'ajja'}\n",
    "print(dict.get('jsna','您输入的键不存在!'))"
   ]
  },
  {
   "cell_type": "code",
   "execution_count": 4,
   "metadata": {},
   "outputs": [
    {
     "name": "stdout",
     "output_type": "stream",
     "text": [
      "[33, 48, 48, 19, 12, 87, 66, 57, 64, 44, 37, 81, 31, 11, 92, 86, 77, 80, 27, 97]\n",
      "[12, 19, 33, 44, 48, 48, 57, 64, 66, 87]\n",
      "[11, 27, 31, 77, 80, 81, 86, 92, 97]\n"
     ]
    }
   ],
   "source": [
    "import random\n",
    "x = [random.randint(0,100)for i in range(20)]\n",
    "print(x)\n",
    "y = x[0:10]\n",
    "y.sort()\n",
    "print(y)\n",
    "m = x[20:10:-1]\n",
    "m.sort()\n",
    "print(m)"
   ]
  },
  {
   "cell_type": "code",
   "execution_count": 5,
   "metadata": {},
   "outputs": [
    {
     "data": {
      "text/plain": [
       "[1, 4, 7]"
      ]
     },
     "execution_count": 5,
     "metadata": {},
     "output_type": "execute_result"
    }
   ],
   "source": [
    "list = [1,2,3,4,5,6,7,8,9,]\n",
    "list[::3]"
   ]
  },
  {
   "cell_type": "code",
   "execution_count": 6,
   "metadata": {},
   "outputs": [
    {
     "data": {
      "text/plain": [
       "[5, 5, 5, 5, 5, 5, 5, 5, 5, 5]"
      ]
     },
     "execution_count": 6,
     "metadata": {},
     "output_type": "execute_result"
    }
   ],
   "source": [
    "list = [5 for i in range(10)]\n",
    "list"
   ]
  },
  {
   "cell_type": "code",
   "execution_count": 7,
   "metadata": {},
   "outputs": [
    {
     "name": "stdout",
     "output_type": "stream",
     "text": [
      "0 : 3\n",
      "1 : 12\n",
      "2 : 8\n",
      "3 : 5\n",
      "4 : 11\n",
      "5 : 15\n",
      "6 : 7\n",
      "7 : 5\n",
      "8 : 8\n",
      "9 : 13\n",
      "10 : 12\n",
      "11 : 10\n",
      "12 : 14\n",
      "13 : 6\n",
      "14 : 11\n",
      "15 : 5\n",
      "16 : 8\n",
      "17 : 8\n",
      "18 : 9\n",
      "19 : 9\n",
      "20 : 8\n",
      "21 : 9\n",
      "22 : 12\n",
      "23 : 11\n",
      "24 : 13\n",
      "25 : 16\n",
      "26 : 5\n",
      "27 : 12\n",
      "28 : 11\n",
      "29 : 9\n",
      "30 : 9\n",
      "31 : 8\n",
      "32 : 8\n",
      "33 : 10\n",
      "34 : 6\n",
      "35 : 6\n",
      "36 : 6\n",
      "37 : 11\n",
      "38 : 11\n",
      "39 : 11\n",
      "40 : 11\n",
      "41 : 10\n",
      "42 : 12\n",
      "43 : 5\n",
      "44 : 13\n",
      "45 : 17\n",
      "46 : 13\n",
      "47 : 9\n",
      "48 : 5\n",
      "49 : 13\n",
      "50 : 17\n",
      "51 : 8\n",
      "52 : 9\n",
      "53 : 13\n",
      "54 : 8\n",
      "55 : 3\n",
      "56 : 6\n",
      "57 : 14\n",
      "58 : 11\n",
      "59 : 7\n",
      "60 : 3\n",
      "61 : 11\n",
      "62 : 11\n",
      "63 : 15\n",
      "64 : 8\n",
      "65 : 15\n",
      "66 : 11\n",
      "67 : 13\n",
      "68 : 9\n",
      "69 : 11\n",
      "70 : 9\n",
      "71 : 14\n",
      "72 : 14\n",
      "73 : 6\n",
      "74 : 9\n",
      "75 : 12\n",
      "76 : 12\n",
      "77 : 7\n",
      "78 : 12\n",
      "79 : 10\n",
      "80 : 12\n",
      "81 : 11\n",
      "82 : 12\n",
      "83 : 14\n",
      "84 : 9\n",
      "85 : 13\n",
      "86 : 4\n",
      "87 : 11\n",
      "88 : 13\n",
      "89 : 7\n",
      "90 : 11\n",
      "91 : 9\n",
      "92 : 9\n",
      "93 : 6\n",
      "94 : 3\n",
      "95 : 10\n",
      "96 : 15\n",
      "97 : 11\n",
      "98 : 11\n",
      "99 : 8\n",
      "100 : 14\n"
     ]
    }
   ],
   "source": [
    "import random\n",
    "y = [random.randint(0,100) for i in range (1000)]\n",
    "z = set(y)\n",
    "for i in z :\n",
    "    print(i,':',y.count(i))"
   ]
  }
 ],
 "metadata": {
  "kernelspec": {
   "display_name": "Python 3",
   "language": "python",
   "name": "python3"
  },
  "language_info": {
   "codemirror_mode": {
    "name": "ipython",
    "version": 3
   },
   "file_extension": ".py",
   "mimetype": "text/x-python",
   "name": "python",
   "nbconvert_exporter": "python",
   "pygments_lexer": "ipython3",
   "version": "3.8.5"
  }
 },
 "nbformat": 4,
 "nbformat_minor": 4
}
