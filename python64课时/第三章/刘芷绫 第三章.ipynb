{
 "cells": [
  {
   "cell_type": "markdown",
   "metadata": {},
   "source": [
    "# 填空题\n"
   ]
  },
  {
   "cell_type": "code",
   "execution_count": 1,
   "metadata": {},
   "outputs": [
    {
     "ename": "SyntaxError",
     "evalue": "invalid character in identifier (<ipython-input-1-c7d1904ef16e>, line 1)",
     "output_type": "error",
     "traceback": [
      "\u001b[1;36m  File \u001b[1;32m\"<ipython-input-1-c7d1904ef16e>\"\u001b[1;36m, line \u001b[1;32m1\u001b[0m\n\u001b[1;33m    冒号：\u001b[0m\n\u001b[1;37m      ^\u001b[0m\n\u001b[1;31mSyntaxError\u001b[0m\u001b[1;31m:\u001b[0m invalid character in identifier\n"
     ]
    }
   ],
   "source": [
    "冒号："
   ]
  },
  {
   "cell_type": "markdown",
   "metadata": {},
   "source": [
    "(1)一般而言，`if、while、for`语句的行末尾要使用($\\quad$)。(标点符号)\n",
    "\n",
    "(2) 下列程序的输出结果是($\\quad$):\n",
    "\n",
    "`a = 3\n",
    "b=3\n",
    "print(a is b)`"
   ]
  },
  {
   "cell_type": "code",
   "execution_count": 1,
   "metadata": {},
   "outputs": [
    {
     "name": "stdout",
     "output_type": "stream",
     "text": [
      "True\n"
     ]
    }
   ],
   "source": [
    "a = 3\n",
    "b = 3\n",
    "print(a is b)"
   ]
  },
  {
   "cell_type": "markdown",
   "metadata": {},
   "source": [
    "(3)`range(1,10,3)`的值是($\\quad$)。"
   ]
  },
  {
   "cell_type": "code",
   "execution_count": 31,
   "metadata": {},
   "outputs": [
    {
     "data": {
      "text/plain": [
       "range(1, 10, 3)"
      ]
     },
     "execution_count": 31,
     "metadata": {},
     "output_type": "execute_result"
    }
   ],
   "source": [
    "range(1,10,3)"
   ]
  },
  {
   "cell_type": "markdown",
   "metadata": {},
   "source": [
    "(4)`[x**3 for x in [1,2,3,4,5]]`的结果是($\\quad$)。"
   ]
  },
  {
   "cell_type": "code",
   "execution_count": 3,
   "metadata": {},
   "outputs": [
    {
     "data": {
      "text/plain": [
       "[1, 8, 27, 64, 125]"
      ]
     },
     "execution_count": 3,
     "metadata": {},
     "output_type": "execute_result"
    }
   ],
   "source": [
    "[x**3 for x in [1,2,3,4,5]]"
   ]
  },
  {
   "cell_type": "markdown",
   "metadata": {},
   "source": [
    "(5)下列程序的运行结果是($\\quad$):\n",
    "\n",
    "`str1 = \"E:\\tjpu\\yhl\\test.txt\"\n",
    "for i in str1:\n",
    "    if i!=\"\\\\\":\n",
    "        print(i,end='')\n",
    "`"
   ]
  },
  {
   "cell_type": "code",
   "execution_count": 4,
   "metadata": {},
   "outputs": [
    {
     "name": "stdout",
     "output_type": "stream",
     "text": [
      "E:\tjpuyhl\test.txt"
     ]
    }
   ],
   "source": [
    "strl = \"E:\\tjpu\\yhl\\test.txt\"\n",
    "for i in strl:\n",
    "    if i!=\"\\\\\":\n",
    "        print(i,end='')"
   ]
  },
  {
   "cell_type": "markdown",
   "metadata": {},
   "source": [
    "# 选择题"
   ]
  },
  {
   "cell_type": "markdown",
   "metadata": {},
   "source": [
    "(1)执行下列语句后的显示结果是($\\quad$):\n",
    "\n",
    "`world=\"world\"\n",
    "print(\"hello\"+ world)\n",
    "`\n",
    "\n",
    "`\n",
    "A.helloworld               B.\"hello\"world\n",
    " C.hello world              D.语法错误\n",
    "`"
   ]
  },
  {
   "cell_type": "code",
   "execution_count": 5,
   "metadata": {},
   "outputs": [
    {
     "name": "stdout",
     "output_type": "stream",
     "text": [
      "helloworld\n"
     ]
    }
   ],
   "source": [
    "world=\"world\"\n",
    "print(\"hello\"+world)"
   ]
  },
  {
   "cell_type": "markdown",
   "metadata": {},
   "source": [
    "(2)下列Python语句中正确的是(  )。\n",
    "\n",
    "`A.(min=x if x<y) else y\n",
    "B.max==x>y?x:y\n",
    "C.if(x>y)     print x\n",
    "D.while True:\n",
    "    pass\n",
    "`"
   ]
  },
  {
   "cell_type": "code",
   "execution_count": null,
   "metadata": {},
   "outputs": [],
   "source": [
    "while True:\n",
    "    pass"
   ]
  },
  {
   "cell_type": "code",
   "execution_count": null,
   "metadata": {},
   "outputs": [],
   "source": [
    "D"
   ]
  },
  {
   "cell_type": "markdown",
   "metadata": {},
   "source": [
    "(3)已知`x=43,y=False;`则表达式`(x>=y and 'A'<'B' and not y )`的值是( )。\n",
    "\n",
    "`\n",
    "A.True\n",
    "B.语法错\n",
    "C.True\n",
    "D.假\n",
    "`"
   ]
  },
  {
   "cell_type": "code",
   "execution_count": 21,
   "metadata": {},
   "outputs": [
    {
     "data": {
      "text/plain": [
       "True"
      ]
     },
     "execution_count": 21,
     "metadata": {},
     "output_type": "execute_result"
    }
   ],
   "source": [
    "x=43\n",
    "y=False\n",
    "(x>=y and 'A'<'B' and not y)"
   ]
  },
  {
   "cell_type": "markdown",
   "metadata": {},
   "source": [
    "(4)以下程序的输出结果是(提示:`ord('a')==97`)\n",
    "\n",
    "`lista = [1,2,3,4,5,'a','b','c','d','e']\n",
    "print(lista[2] + ord(lista[5])`\n",
    "\n",
    "`\n",
    "A.100\n",
    "B.'d'\n",
    "C.d\n",
    "D.TypeError\n",
    "`\n"
   ]
  },
  {
   "cell_type": "code",
   "execution_count": 7,
   "metadata": {},
   "outputs": [
    {
     "name": "stdout",
     "output_type": "stream",
     "text": [
      "100\n"
     ]
    }
   ],
   "source": [
    "lista =[1,2,3,4,5, 'a','b','c','d','e']\n",
    "print(lista[2]+ord(lista[5]))"
   ]
  },
  {
   "cell_type": "markdown",
   "metadata": {},
   "source": [
    "(5)下面那个语句在Python中是非法的？()。\n",
    "\n",
    "`\n",
    "A.x=y=z=1\n",
    "B.x=(y=z+1)\n",
    "C.x,y=y,x\n",
    "D.x+=y\n",
    "`"
   ]
  },
  {
   "cell_type": "code",
   "execution_count": 8,
   "metadata": {},
   "outputs": [],
   "source": [
    "B"
   ]
  },
  {
   "cell_type": "markdown",
   "metadata": {},
   "source": [
    "(6)下面的循环体执行的次数与其他不同的是()。\n",
    "\n",
    "`\n",
    "A.\n",
    "    i=0\n",
    "    while(i<=100):\n",
    "        print(i)\n",
    "        i=i+1\n",
    "B.\n",
    "    for i in range(100):\n",
    "        print(i)\n",
    "C.\n",
    "    for i in range(100,0,-1):\n",
    "        print(i)\n",
    "D.\n",
    "    i = 100\n",
    "    while(i>10):\n",
    "        print(i)\n",
    "        i = i-1\n",
    "`"
   ]
  },
  {
   "cell_type": "code",
   "execution_count": 9,
   "metadata": {},
   "outputs": [],
   "source": [
    "D"
   ]
  },
  {
   "cell_type": "markdown",
   "metadata": {},
   "source": [
    "# 问答题"
   ]
  },
  {
   "cell_type": "markdown",
   "metadata": {},
   "source": [
    "(1) 分析逻辑运算符or的惰性求值特性。\n",
    "\n",
    "(2)Python中pass语句的作用是什么？\n",
    "\n",
    "(3)简述Pyhon中range()函数的用法。\n",
    "\n",
    "(4)Python中break、continue语句的作用是什么?"
   ]
  },
  {
   "cell_type": "code",
   "execution_count": null,
   "metadata": {},
   "outputs": [],
   "source": [
    "若第一个为真，则为真，若第一个为假，则第二个是真就是真，第二个是假就是假"
   ]
  },
  {
   "cell_type": "code",
   "execution_count": null,
   "metadata": {},
   "outputs": [],
   "source": [
    "占位，保证代码完整"
   ]
  },
  {
   "cell_type": "code",
   "execution_count": null,
   "metadata": {},
   "outputs": [],
   "source": [
    "range(start,end,stop)   start表示开始 stop表示结束 step表示步长"
   ]
  },
  {
   "cell_type": "code",
   "execution_count": null,
   "metadata": {},
   "outputs": [],
   "source": [
    "break终止并跳出此次循环 continue跳出当前循环并进行下一次循环"
   ]
  },
  {
   "cell_type": "markdown",
   "metadata": {},
   "source": [
    "# 实验操作题"
   ]
  },
  {
   "cell_type": "markdown",
   "metadata": {},
   "source": [
    "1、编写输出10以内素数的循环程序."
   ]
  },
  {
   "cell_type": "code",
   "execution_count": 22,
   "metadata": {},
   "outputs": [
    {
     "data": {
      "text/plain": [
       "[2, 3, 5, 7]"
      ]
     },
     "execution_count": 22,
     "metadata": {},
     "output_type": "execute_result"
    }
   ],
   "source": [
    "[p for p in range(2,10) if 0 not in [p%d for d in range(2,int(p**0.5)+1)]]"
   ]
  },
  {
   "cell_type": "markdown",
   "metadata": {},
   "source": [
    "2、使用if-elif-else语句判断输入的数字是整数、负数还是零。使用嵌套的if语句实现同样的功能。"
   ]
  },
  {
   "cell_type": "code",
   "execution_count": 32,
   "metadata": {},
   "outputs": [
    {
     "name": "stdout",
     "output_type": "stream",
     "text": [
      "请输入一个数：5\n",
      "这个数为正数\n"
     ]
    }
   ],
   "source": [
    "x = int(input(\"请输入一个数：\"))\n",
    "if x>0:\n",
    "    print(\"这个数为正数\")\n",
    "elif x==0:\n",
    "    print(\"这个数是零\")\n",
    "else:\n",
    "    print(\"这个数是负数\")"
   ]
  },
  {
   "cell_type": "markdown",
   "metadata": {},
   "source": [
    "3、用if语句判断输入的一个数字是奇数还是偶数."
   ]
  },
  {
   "cell_type": "code",
   "execution_count": 33,
   "metadata": {},
   "outputs": [
    {
     "name": "stdout",
     "output_type": "stream",
     "text": [
      "请输入一个正整数:9\n",
      "该数为奇数\n"
     ]
    }
   ],
   "source": [
    "x = int(input('请输入一个正整数:'))\n",
    "if x%2==0:\n",
    "    print(\"该数为偶数\")\n",
    "else:\n",
    "    print(\"该数为奇数\")"
   ]
  },
  {
   "cell_type": "markdown",
   "metadata": {},
   "source": [
    "4、用if语句判断用户输入的年份是否为闰年."
   ]
  },
  {
   "cell_type": "code",
   "execution_count": 34,
   "metadata": {},
   "outputs": [
    {
     "name": "stdout",
     "output_type": "stream",
     "text": [
      "请输入一个四位整数:2001\n",
      "该年不是闰年\n"
     ]
    }
   ],
   "source": [
    "x = int(input('请输入一个四位整数:'))\n",
    "if x%400==0 or (x%4==0 and x%100!=0):\n",
    "    print('该年为闰年')\n",
    "else:\n",
    "    print('该年不是闰年')"
   ]
  },
  {
   "cell_type": "markdown",
   "metadata": {},
   "source": [
    "5、使用标准格式输出阶乘(factorial)。整数的阶乘是所有小于及等于该数的正整数的积，即:`n!=1*2*3*...*n`。0的阶乘定义为1。"
   ]
  },
  {
   "cell_type": "code",
   "execution_count": 26,
   "metadata": {},
   "outputs": [
    {
     "data": {
      "text/plain": [
       "1770"
      ]
     },
     "execution_count": 26,
     "metadata": {},
     "output_type": "execute_result"
    }
   ],
   "source": [
    "import itertools\n",
    "len(tuple(itertools.combinations(range(60),2)))"
   ]
  },
  {
   "cell_type": "markdown",
   "metadata": {},
   "source": [
    "6、改进九九乘法表,用for语句和range()函数实现。建议使用end换行。"
   ]
  },
  {
   "cell_type": "code",
   "execution_count": 15,
   "metadata": {},
   "outputs": [
    {
     "name": "stdout",
     "output_type": "stream",
     "text": [
      "1*1=1 2*1=2 3*1=3 4*1=4 5*1=5 6*1=6 7*1=7 8*1=8 9*1=9 \n",
      "2*2=4 3*2=6 4*2=8 5*2=10 6*2=12 7*2=14 8*2=16 9*2=18 \n",
      "3*3=9 4*3=12 5*3=15 6*3=18 7*3=21 8*3=24 9*3=27 \n",
      "4*4=16 5*4=20 6*4=24 7*4=28 8*4=32 9*4=36 \n",
      "5*5=25 6*5=30 7*5=35 8*5=40 9*5=45 \n",
      "6*6=36 7*6=42 8*6=48 9*6=54 \n",
      "7*7=49 8*7=56 9*7=63 \n",
      "8*8=64 9*8=72 \n",
      "9*9=81 \n"
     ]
    }
   ],
   "source": [
    "for i in range(1,10):\n",
    "    for j in range(i,10):\n",
    "        print('{}*{}={}'.format(j,i,(i*j)),end=\" \")\n",
    "    print()"
   ]
  },
  {
   "cell_type": "markdown",
   "metadata": {},
   "source": [
    "7、求制定区间内的水仙花数(亦称阿姆斯特朗数),要求使用循环语句和判断语句。\n",
    "\n",
    "如果一个$n$位正整数等于其各位数字的立方之和，则称该数为水仙花数或阿姆斯特朗数,例如$3^3+7^3+0^3=370$。1000以内的水仙花数有：153，370，371，407."
   ]
  },
  {
   "cell_type": "code",
   "execution_count": 27,
   "metadata": {},
   "outputs": [
    {
     "name": "stdout",
     "output_type": "stream",
     "text": [
      "153\n",
      "370\n",
      "371\n",
      "407\n"
     ]
    }
   ],
   "source": [
    "for i in range(10**2,10**3):\n",
    "    bai,shi,ge = map(int,str(i))\n",
    "    if bai**3+shi**3+ge**3==i:\n",
    "        print(i)"
   ]
  },
  {
   "cell_type": "code",
   "execution_count": null,
   "metadata": {},
   "outputs": [],
   "source": []
  }
 ],
 "metadata": {
  "kernelspec": {
   "display_name": "Python 3",
   "language": "python",
   "name": "python3"
  },
  "language_info": {
   "codemirror_mode": {
    "name": "ipython",
    "version": 3
   },
   "file_extension": ".py",
   "mimetype": "text/x-python",
   "name": "python",
   "nbconvert_exporter": "python",
   "pygments_lexer": "ipython3",
   "version": "3.8.5"
  },
  "toc": {
   "base_numbering": 1,
   "nav_menu": {},
   "number_sections": true,
   "sideBar": true,
   "skip_h1_title": false,
   "title_cell": "Table of Contents",
   "title_sidebar": "Contents",
   "toc_cell": false,
   "toc_position": {},
   "toc_section_display": true,
   "toc_window_display": false
  }
 },
 "nbformat": 4,
 "nbformat_minor": 4
}
