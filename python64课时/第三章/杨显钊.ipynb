{
 "cells": [
  {
   "cell_type": "markdown",
   "metadata": {},
   "source": [
    "# 填空题\n"
   ]
  },
  {
   "cell_type": "markdown",
   "metadata": {},
   "source": [
    "(1)一般而言，`if、while、for`语句的行末尾要使用($\\quad$)。(标点符号)\n",
    "\n",
    "(2) 下列程序的输出结果是($\\quad$):\n",
    "\n",
    "`a = 3\n",
    "b=3\n",
    "print(a is b)`"
   ]
  },
  {
   "cell_type": "code",
   "execution_count": null,
   "metadata": {},
   "outputs": [],
   "source": [
    "："
   ]
  },
  {
   "cell_type": "code",
   "execution_count": 1,
   "metadata": {},
   "outputs": [
    {
     "name": "stdout",
     "output_type": "stream",
     "text": [
      "True\n"
     ]
    }
   ],
   "source": [
    "a = 3\n",
    "b = 3\n",
    "print(a is b)"
   ]
  },
  {
   "cell_type": "markdown",
   "metadata": {},
   "source": [
    "(3)`range(1,10,3)`的值是($\\quad$)。"
   ]
  },
  {
   "cell_type": "code",
   "execution_count": 1,
   "metadata": {},
   "outputs": [
    {
     "data": {
      "text/plain": [
       "[1, 4, 7]"
      ]
     },
     "execution_count": 1,
     "metadata": {},
     "output_type": "execute_result"
    }
   ],
   "source": [
    "list(range(1,10,3))"
   ]
  },
  {
   "cell_type": "markdown",
   "metadata": {},
   "source": [
    "(4)`[x**3 for x in [1,2,3,4,5]]`的结果是($\\quad$)。"
   ]
  },
  {
   "cell_type": "code",
   "execution_count": 4,
   "metadata": {},
   "outputs": [
    {
     "data": {
      "text/plain": [
       "[1, 8, 27, 64, 125]"
      ]
     },
     "execution_count": 4,
     "metadata": {},
     "output_type": "execute_result"
    }
   ],
   "source": [
    "[x**3 for x in [1,2,3,4,5]]"
   ]
  },
  {
   "cell_type": "markdown",
   "metadata": {},
   "source": [
    "(5)下列程序的运行结果是($\\quad$):\n",
    "\n",
    "`str1 = \"E:\\tjpu\\yhl\\test.txt\"\n",
    "for i in str1:\n",
    "    if i!=\"\\\\\":\n",
    "        print(i,end='')\n",
    "`"
   ]
  },
  {
   "cell_type": "code",
   "execution_count": 5,
   "metadata": {},
   "outputs": [
    {
     "name": "stdout",
     "output_type": "stream",
     "text": [
      "E:\tjpuyhl\test.txt"
     ]
    }
   ],
   "source": [
    "str1 = \"E:\\tjpu\\yhl\\test.txt\"\n",
    "for i in str1:\n",
    "    if i!=\"\\\\\":\n",
    "        print(i,end='')"
   ]
  },
  {
   "cell_type": "markdown",
   "metadata": {},
   "source": [
    "# 选择题"
   ]
  },
  {
   "cell_type": "markdown",
   "metadata": {},
   "source": [
    "(1)执行下列语句后的显示结果是($\\quad$):\n",
    "\n",
    "`world=\"world\"\n",
    "print(\"hello\"+ world)\n",
    "`\n",
    "\n",
    "`\n",
    "A.helloworld               B.\"hello\"world\n",
    " C.hello world              D.语法错误\n",
    "`"
   ]
  },
  {
   "cell_type": "code",
   "execution_count": 6,
   "metadata": {},
   "outputs": [
    {
     "name": "stdout",
     "output_type": "stream",
     "text": [
      "helloworld\n"
     ]
    }
   ],
   "source": [
    "world=\"world\"\n",
    "print(\"hello\"+ world)"
   ]
  },
  {
   "cell_type": "code",
   "execution_count": null,
   "metadata": {},
   "outputs": [],
   "source": [
    "A"
   ]
  },
  {
   "cell_type": "markdown",
   "metadata": {},
   "source": [
    "(2)下列Python语句中正确的是(  )。\n",
    "\n",
    "`A.(min=x if x<y) else y\n",
    "B.max==x>y?x:y\n",
    "C.if(x>y)     print x\n",
    "D.while True:\n",
    "    pass\n",
    "`"
   ]
  },
  {
   "cell_type": "code",
   "execution_count": null,
   "metadata": {},
   "outputs": [],
   "source": [
    "while True:\n",
    "    pass"
   ]
  },
  {
   "cell_type": "code",
   "execution_count": null,
   "metadata": {},
   "outputs": [],
   "source": [
    "D"
   ]
  },
  {
   "cell_type": "markdown",
   "metadata": {},
   "source": [
    "(3)已知`x=43,y=False;`则表达式`(x>=y and 'A'<'B' and not y )`的值是( )。\n",
    "\n",
    "`\n",
    "A.True\n",
    "B.语法错\n",
    "C.True\n",
    "D.假\n",
    "`"
   ]
  },
  {
   "cell_type": "code",
   "execution_count": 6,
   "metadata": {},
   "outputs": [
    {
     "ename": "SyntaxError",
     "evalue": "cannot assign to literal (<ipython-input-6-a1f6a28ced2b>, line 1)",
     "output_type": "error",
     "traceback": [
      "\u001b[1;36m  File \u001b[1;32m\"<ipython-input-6-a1f6a28ced2b>\"\u001b[1;36m, line \u001b[1;32m1\u001b[0m\n\u001b[1;33m    x=43,y=False;\u001b[0m\n\u001b[1;37m      ^\u001b[0m\n\u001b[1;31mSyntaxError\u001b[0m\u001b[1;31m:\u001b[0m cannot assign to literal\n"
     ]
    }
   ],
   "source": [
    "x=43,y=False;\n",
    "(x>=y and 'A'<'B' and not y )"
   ]
  },
  {
   "cell_type": "code",
   "execution_count": null,
   "metadata": {},
   "outputs": [],
   "source": [
    "C"
   ]
  },
  {
   "cell_type": "markdown",
   "metadata": {},
   "source": [
    "(4)以下程序的输出结果是(提示:`ord('a')==97`)\n",
    "\n",
    "`lista = [1,2,3,4,5,'a','b','c','d','e']\n",
    "print(lista[2] + ord(lista[5])`\n",
    "\n",
    "`\n",
    "A.100\n",
    "B.'d'\n",
    "C.d\n",
    "D.TypeError\n",
    "`\n"
   ]
  },
  {
   "cell_type": "code",
   "execution_count": null,
   "metadata": {},
   "outputs": [],
   "source": [
    "A"
   ]
  },
  {
   "cell_type": "markdown",
   "metadata": {},
   "source": [
    "(5)下面那个语句在Python中是非法的？()。\n",
    "\n",
    "`\n",
    "A.x=y=z=1\n",
    "B.x=(y=z+1)\n",
    "C.x,y=y,x\n",
    "D.x+=y\n",
    "`"
   ]
  },
  {
   "cell_type": "code",
   "execution_count": 2,
   "metadata": {},
   "outputs": [
    {
     "ename": "SyntaxError",
     "evalue": "invalid syntax (<ipython-input-2-ccc423e19687>, line 1)",
     "output_type": "error",
     "traceback": [
      "\u001b[1;36m  File \u001b[1;32m\"<ipython-input-2-ccc423e19687>\"\u001b[1;36m, line \u001b[1;32m1\u001b[0m\n\u001b[1;33m    x=(y=z+1)\u001b[0m\n\u001b[1;37m        ^\u001b[0m\n\u001b[1;31mSyntaxError\u001b[0m\u001b[1;31m:\u001b[0m invalid syntax\n"
     ]
    }
   ],
   "source": [
    "x=(y=z+1)"
   ]
  },
  {
   "cell_type": "code",
   "execution_count": null,
   "metadata": {},
   "outputs": [],
   "source": [
    "B"
   ]
  },
  {
   "cell_type": "markdown",
   "metadata": {},
   "source": [
    "(6)下面的循环体执行的次数与其他不同的是()。\n",
    "\n",
    "`\n",
    "A.\n",
    "    i=0\n",
    "    while(i<=100):\n",
    "        print(i)\n",
    "        i=i+1\n",
    "B.\n",
    "    for i in range(100):\n",
    "        print(i)\n",
    "C.\n",
    "    for i in range(100,0,-1):\n",
    "        print(i)\n",
    "D.\n",
    "    i = 100\n",
    "    while(i>10):\n",
    "        print(i)\n",
    "        i = i-1\n",
    "`"
   ]
  },
  {
   "cell_type": "code",
   "execution_count": null,
   "metadata": {},
   "outputs": [],
   "source": [
    " A"
   ]
  },
  {
   "cell_type": "markdown",
   "metadata": {},
   "source": [
    "# 问答题"
   ]
  },
  {
   "cell_type": "markdown",
   "metadata": {},
   "source": [
    "(1) 分析逻辑运算符or的惰性求值特性。\n",
    "\n",
    "(2)Python中pass语句的作用是什么？\n",
    "\n",
    "(3)简述Pyhon中range()函数的用法。\n",
    "\n",
    "(4)Python中break、continue语句的作用是什么?"
   ]
  },
  {
   "cell_type": "code",
   "execution_count": null,
   "metadata": {},
   "outputs": [],
   "source": [
    "如果第一个表达式为真，那么运算结果为真；如果第一个表达式结果为假，根据第二个表达式的真假确定整个运算的值"
   ]
  },
  {
   "cell_type": "code",
   "execution_count": null,
   "metadata": {},
   "outputs": [],
   "source": [
    "占位 "
   ]
  },
  {
   "cell_type": "code",
   "execution_count": null,
   "metadata": {},
   "outputs": [],
   "source": [
    "range(start,end,stop)\n",
    "start:计数从start开始，默认从0开始。例如range（5）等价于range（0，5）；\n",
    "end:计数到stop结束，但不包括stop。例如：range（0，5）是0,1,2,3,4，没有5；\n",
    "step：步长，默认为1。例如：range（0，5）等价于range(0,5,1)。"
   ]
  },
  {
   "cell_type": "code",
   "execution_count": null,
   "metadata": {},
   "outputs": [],
   "source": [
    "break用于终止本次循环，跳出循环外继续执行；\n",
    "continue用于跳出当次循环，继续执行下次循环。"
   ]
  },
  {
   "cell_type": "markdown",
   "metadata": {},
   "source": [
    "# 实验操作题"
   ]
  },
  {
   "cell_type": "markdown",
   "metadata": {},
   "source": [
    "1、编写输出10以内素数的循环程序."
   ]
  },
  {
   "cell_type": "code",
   "execution_count": 14,
   "metadata": {},
   "outputs": [
    {
     "name": "stdout",
     "output_type": "stream",
     "text": [
      "2 是质数\n",
      "3 是质数\n",
      "4 等于 2 * 2\n",
      "5 是质数\n",
      "6 等于 2 * 3\n",
      "7 是质数\n",
      "8 等于 2 * 4\n",
      "9 等于 3 * 3\n"
     ]
    }
   ],
   "source": [
    "for n in range(2,10):\n",
    "    for x in range(2,n):\n",
    "        if n % x ==0:\n",
    "            print(n,'等于',x,'*',n//x)\n",
    "            break\n",
    "    else:\n",
    "          print(n,'是质数')"
   ]
  },
  {
   "cell_type": "markdown",
   "metadata": {},
   "source": [
    "2、使用if-elif-else语句判断输入的数字是整数、负数还是零。使用嵌套的if语句实现同样的功能。"
   ]
  },
  {
   "cell_type": "code",
   "execution_count": 1,
   "metadata": {},
   "outputs": [
    {
     "name": "stdout",
     "output_type": "stream",
     "text": [
      "输入一个数字:85\n",
      "正数\n"
     ]
    }
   ],
   "source": [
    "num=float(input(\"输入一个数字:\"))\n",
    "if num<0:\n",
    "    print(\"负数\")\n",
    "elif num==0:\n",
    "    print(\"零\")\n",
    "else:\n",
    "    print(\"正数\")"
   ]
  },
  {
   "cell_type": "markdown",
   "metadata": {},
   "source": [
    "3、用if语句判断输入的一个数字是奇数还是偶数."
   ]
  },
  {
   "cell_type": "code",
   "execution_count": 2,
   "metadata": {},
   "outputs": [
    {
     "name": "stdout",
     "output_type": "stream",
     "text": [
      "输入一个数字:56465654\n",
      "56465654是偶数\n"
     ]
    }
   ],
   "source": [
    "num = int(input(\"输入一个数字:\"))\n",
    "if(num%2)!=0:\n",
    "    print(\"{0}是奇数\".format(num))\n",
    "else:\n",
    "    print(\"{0}是偶数\".format(num))"
   ]
  },
  {
   "cell_type": "markdown",
   "metadata": {},
   "source": [
    "4、用if语句判断用户输入的年份是否为闰年."
   ]
  },
  {
   "cell_type": "code",
   "execution_count": 3,
   "metadata": {},
   "outputs": [
    {
     "name": "stdout",
     "output_type": "stream",
     "text": [
      "输入一个年份:2020\n",
      "2020是闰年\n"
     ]
    }
   ],
   "source": [
    "year = int(input(\"输入一个年份:\"))\n",
    "if(year%4) == 0:\n",
    "    if(year%100) == 0:\n",
    "        if(year%400)==0:\n",
    "            print(\"{0}是闰年\".format(year))\n",
    "        else:\n",
    "            print(\"{0}不是闰年\".format(year))\n",
    "    else:\n",
    "        print(\"{0}是闰年\".format(year))\n",
    "else:\n",
    "    print(\"{0}不是闰年\".format(year))"
   ]
  },
  {
   "cell_type": "markdown",
   "metadata": {},
   "source": [
    "5、使用标准格式输出阶乘(factorial)。整数的阶乘是所有小于及等于该数的正整数的积，即:`n!=1*2*3*...*n`。0的阶乘定义为1。"
   ]
  },
  {
   "cell_type": "code",
   "execution_count": 4,
   "metadata": {},
   "outputs": [
    {
     "name": "stdout",
     "output_type": "stream",
     "text": [
      "请输入一个数字9\n",
      "9的阶乘为362880\n"
     ]
    }
   ],
   "source": [
    "num = int(input(\"请输入一个数字\"))\n",
    "factorial = 1\n",
    "if num < 0:\n",
    "    print(\"抱歉，负数没有阶乘\")\n",
    "elif num == 0:\n",
    "    print(\"0的阶乘为1\")\n",
    "else:\n",
    "    for i in range(1,num+1):\n",
    "        factorial *= i\n",
    "    print(\"%d的阶乘为%d\"%(num,factorial))"
   ]
  },
  {
   "cell_type": "markdown",
   "metadata": {},
   "source": [
    "6、改进九九乘法表,用for语句和range()函数实现。建议使用end换行。"
   ]
  },
  {
   "cell_type": "code",
   "execution_count": 5,
   "metadata": {},
   "outputs": [
    {
     "name": "stdout",
     "output_type": "stream",
     "text": [
      "1x1=1\t2x1=2\t2x2=4\t3x1=3\t3x2=6\t3x3=9\t4x1=4\t4x2=8\t4x3=12\t4x4=16\t5x1=5\t5x2=10\t5x3=15\t5x4=20\t5x5=25\t6x1=6\t6x2=12\t6x3=18\t6x4=24\t6x5=30\t6x6=36\t7x1=7\t7x2=14\t7x3=21\t7x4=28\t7x5=35\t7x6=42\t7x7=49\t8x1=8\t8x2=16\t8x3=24\t8x4=32\t8x5=40\t8x6=48\t8x7=56\t8x8=64\t9x1=9\t9x2=18\t9x3=27\t9x4=36\t9x5=45\t9x6=54\t9x7=63\t9x8=72\t9x9=81\t\n"
     ]
    }
   ],
   "source": [
    "for i in range(1,10):\n",
    "    for j in range(1,i+1):\n",
    "        print('{}x{}={}\\t'.format(i,j,i*j),end='')\n",
    "print()"
   ]
  },
  {
   "cell_type": "markdown",
   "metadata": {},
   "source": [
    "7、求制定区间内的水仙花数(亦称阿姆斯特朗数),要求使用循环语句和判断语句。\n",
    "\n",
    "如果一个$n$位正整数等于其各位数字的立方之和，则称该数为水仙花数或阿姆斯特朗数,例如$3^3+7^3+0^3=370$。1000以内的水仙花数有：153，370，371，407."
   ]
  },
  {
   "cell_type": "code",
   "execution_count": 6,
   "metadata": {},
   "outputs": [
    {
     "name": "stdout",
     "output_type": "stream",
     "text": [
      "最小值:9\n",
      "最大值:8\n"
     ]
    }
   ],
   "source": [
    "lower = int(input(\"最小值:\"))\n",
    "upper = int(input(\"最大值:\"))\n",
    "for num in range(lower,upper+1):\n",
    "    sum = 0\n",
    "    n = len(str(num))\n",
    "    temp = num"
   ]
  },
  {
   "cell_type": "code",
   "execution_count": null,
   "metadata": {},
   "outputs": [],
   "source": []
  }
 ],
 "metadata": {
  "kernelspec": {
   "display_name": "Python 3",
   "language": "python",
   "name": "python3"
  },
  "language_info": {
   "codemirror_mode": {
    "name": "ipython",
    "version": 3
   },
   "file_extension": ".py",
   "mimetype": "text/x-python",
   "name": "python",
   "nbconvert_exporter": "python",
   "pygments_lexer": "ipython3",
   "version": "3.8.5"
  },
  "toc": {
   "base_numbering": 1,
   "nav_menu": {},
   "number_sections": true,
   "sideBar": true,
   "skip_h1_title": false,
   "title_cell": "Table of Contents",
   "title_sidebar": "Contents",
   "toc_cell": false,
   "toc_position": {},
   "toc_section_display": true,
   "toc_window_display": false
  }
 },
 "nbformat": 4,
 "nbformat_minor": 4
}
