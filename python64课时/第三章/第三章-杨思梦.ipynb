{
 "cells": [
  {
   "cell_type": "code",
   "execution_count": null,
   "metadata": {},
   "outputs": [],
   "source": [
    "(1):\n",
    "(2)Ture\n",
    "(3)1 4 7\n",
    "(4)[1,8,27,64,125]\n",
    "(5)\n",
    "选择题：A D A A C A\n",
    "(1)or:给它什么才算什么 前面的表达式是真的 那么结果为真 前面的表达式是假的 那么第二个表达式的值就为结果\n",
    "(2)pass:\n",
    "(3)range():range[start:stop:step] start开始位置默认为0，stop切片截止位置但不包括该位置，setp切片步长默认为1\n",
    "(4)break:如果break被执行，将使整个循环提前结束\n",
    "   continue终止本次循环，直接回到循环的顶端，提前进入下一次循环"
   ]
  },
  {
   "cell_type": "code",
   "execution_count": 8,
   "metadata": {},
   "outputs": [
    {
     "name": "stdout",
     "output_type": "stream",
     "text": [
      "请输入一个数字：10\n",
      "整数\n"
     ]
    }
   ],
   "source": [
    "number = float(input('请输入一个数字：'))\n",
    "if number < 0:\n",
    "    print('负数')\n",
    "elif number == 0:\n",
    "    print('零')\n",
    "else:\n",
    "    print('整数')"
   ]
  },
  {
   "cell_type": "code",
   "execution_count": 11,
   "metadata": {},
   "outputs": [
    {
     "name": "stdout",
     "output_type": "stream",
     "text": [
      "请输入一个数字：22\n",
      "这是一个奇数\n"
     ]
    }
   ],
   "source": [
    "number=int(input('请输入一个数字：'))\n",
    "if (number&2==0):\n",
    "    print('这是一个偶数')\n",
    "else:\n",
    "    print('这是一个奇数')"
   ]
  },
  {
   "cell_type": "code",
   "execution_count": 10,
   "metadata": {},
   "outputs": [
    {
     "name": "stdout",
     "output_type": "stream",
     "text": [
      "请输入一个年份：2000\n",
      "这是一个闰年\n"
     ]
    }
   ],
   "source": [
    "year=int(input('请输入一个年份：'))\n",
    "if (year&200==0) or (year&4==0 and year&100!=0):\n",
    "    print('这是一个闰年')\n",
    "else:\n",
    "    print('这是一个平年')"
   ]
  },
  {
   "cell_type": "code",
   "execution_count": 16,
   "metadata": {},
   "outputs": [
    {
     "name": "stdout",
     "output_type": "stream",
     "text": [
      "1 * 1 = 1\n",
      "1 * 2 = 22 * 2 = 4\n",
      "1 * 3 = 32 * 3 = 63 * 3 = 9\n",
      "1 * 4 = 42 * 4 = 83 * 4 = 124 * 4 = 16\n",
      "1 * 5 = 52 * 5 = 103 * 5 = 154 * 5 = 205 * 5 = 25\n",
      "1 * 6 = 62 * 6 = 123 * 6 = 184 * 6 = 245 * 6 = 306 * 6 = 36\n",
      "1 * 7 = 72 * 7 = 143 * 7 = 214 * 7 = 285 * 7 = 356 * 7 = 427 * 7 = 49\n",
      "1 * 8 = 82 * 8 = 163 * 8 = 244 * 8 = 325 * 8 = 406 * 8 = 487 * 8 = 568 * 8 = 64\n",
      "1 * 9 = 92 * 9 = 183 * 9 = 274 * 9 = 365 * 9 = 456 * 9 = 547 * 9 = 638 * 9 = 729 * 9 = 81\n"
     ]
    }
   ],
   "source": [
    "for i in range(1,10):\n",
    "    for j in range(1,i+1):\n",
    "        print(j,'*',i,'=',i*j,end='')\n",
    "    print()"
   ]
  },
  {
   "cell_type": "code",
   "execution_count": null,
   "metadata": {},
   "outputs": [],
   "source": []
  },
  {
   "cell_type": "code",
   "execution_count": null,
   "metadata": {},
   "outputs": [],
   "source": []
  }
 ],
 "metadata": {
  "kernelspec": {
   "display_name": "Python 3",
   "language": "python",
   "name": "python3"
  },
  "language_info": {
   "codemirror_mode": {
    "name": "ipython",
    "version": 3
   },
   "file_extension": ".py",
   "mimetype": "text/x-python",
   "name": "python",
   "nbconvert_exporter": "python",
   "pygments_lexer": "ipython3",
   "version": "3.8.5"
  }
 },
 "nbformat": 4,
 "nbformat_minor": 4
}
