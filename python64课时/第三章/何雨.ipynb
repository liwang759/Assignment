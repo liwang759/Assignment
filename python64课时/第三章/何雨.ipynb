{
 "cells": [
  {
   "cell_type": "markdown",
   "metadata": {},
   "source": [
    "# 填空题\n"
   ]
  },
  {
   "cell_type": "markdown",
   "metadata": {},
   "source": [
    "(1)一般而言，`if、while、for`语句的行末尾要使用( : )。(标点符号)\n",
    "\n",
    "(2) 下列程序的输出结果是(  ):\n",
    "\n",
    "`a = 3\n",
    "b=3\n",
    "print(a is b)`"
   ]
  },
  {
   "cell_type": "code",
   "execution_count": 1,
   "metadata": {},
   "outputs": [
    {
     "name": "stdout",
     "output_type": "stream",
     "text": [
      "True\n"
     ]
    }
   ],
   "source": [
    "a = 3\n",
    "b = 3\n",
    "print (a is b)"
   ]
  },
  {
   "cell_type": "markdown",
   "metadata": {},
   "source": [
    "(3)`range(1,10,3)`的值是($\\quad$)。"
   ]
  },
  {
   "cell_type": "code",
   "execution_count": 2,
   "metadata": {},
   "outputs": [
    {
     "data": {
      "text/plain": [
       "[1, 4, 7]"
      ]
     },
     "execution_count": 2,
     "metadata": {},
     "output_type": "execute_result"
    }
   ],
   "source": [
    "x = range(1 ,10 ,3)\n",
    "list (x)"
   ]
  },
  {
   "cell_type": "markdown",
   "metadata": {},
   "source": [
    "(4)`[x**3 for x in [1,2,3,4,5]]`的结果是($\\quad$)。"
   ]
  },
  {
   "cell_type": "code",
   "execution_count": 3,
   "metadata": {},
   "outputs": [
    {
     "data": {
      "text/plain": [
       "[1, 8, 27, 64, 125]"
      ]
     },
     "execution_count": 3,
     "metadata": {},
     "output_type": "execute_result"
    }
   ],
   "source": [
    "x = [x**3 for x in [1,2,3,4,5]]\n",
    "list (x)"
   ]
  },
  {
   "cell_type": "markdown",
   "metadata": {},
   "source": [
    "(5)下列程序的运行结果是($\\quad$):\n",
    "\n",
    "`str1 = \"E:\\tjpu\\yhl\\test.txt\"\n",
    "for i in str1:\n",
    "    if i!=\"\\\\\":\n",
    "        print(i,end='')\n",
    "`"
   ]
  },
  {
   "cell_type": "code",
   "execution_count": 4,
   "metadata": {},
   "outputs": [
    {
     "name": "stdout",
     "output_type": "stream",
     "text": [
      "E:\tjpuyhl\test.txt"
     ]
    }
   ],
   "source": [
    "str1 = \"E:\\tjpu\\yhl\\test.txt\"\n",
    "for i in str1:\n",
    "    if i!=\"\\\\\":\n",
    "        print(i,end='')"
   ]
  },
  {
   "cell_type": "markdown",
   "metadata": {},
   "source": [
    "# 选择题"
   ]
  },
  {
   "cell_type": "markdown",
   "metadata": {},
   "source": [
    "(1)执行下列语句后的显示结果是($\\quad$):\n",
    "\n",
    "`world=\"world\"\n",
    "print(\"hello\"+ world)\n",
    "`\n",
    "\n",
    "`\n",
    "A.helloworld               B.\"hello\"world\n",
    " C.hello world              D.语法错误\n",
    "`"
   ]
  },
  {
   "cell_type": "code",
   "execution_count": 5,
   "metadata": {},
   "outputs": [
    {
     "name": "stdout",
     "output_type": "stream",
     "text": [
      "helloworld\n"
     ]
    }
   ],
   "source": [
    "world=\"world\"\n",
    "print(\"hello\"+ world)"
   ]
  },
  {
   "cell_type": "markdown",
   "metadata": {},
   "source": [
    "(2)下列Python语句中正确的是(  )。\n",
    "\n",
    "`A.(min=x if x<y) else y\n",
    "B.max==x>y?x:y\n",
    "C.if(x>y)     print x\n",
    "D.while True:\n",
    "    pass\n",
    "`"
   ]
  },
  {
   "cell_type": "code",
   "execution_count": 6,
   "metadata": {},
   "outputs": [
    {
     "ename": "SyntaxError",
     "evalue": "invalid syntax (<ipython-input-6-41e61ec1d6e4>, line 1)",
     "output_type": "error",
     "traceback": [
      "\u001b[1;36m  File \u001b[1;32m\"<ipython-input-6-41e61ec1d6e4>\"\u001b[1;36m, line \u001b[1;32m1\u001b[0m\n\u001b[1;33m    max == x > y?x:y\u001b[0m\n\u001b[1;37m                ^\u001b[0m\n\u001b[1;31mSyntaxError\u001b[0m\u001b[1;31m:\u001b[0m invalid syntax\n"
     ]
    }
   ],
   "source": [
    "max == x > y?x:y"
   ]
  },
  {
   "cell_type": "markdown",
   "metadata": {},
   "source": [
    "(3)已知`x=43,y=False;`则表达式`(x>=y and 'A'<'B' and not y )`的值是( )。\n",
    "\n",
    "`\n",
    "A.True\n",
    "B.语法错\n",
    "C.True\n",
    "D.假\n",
    "`"
   ]
  },
  {
   "cell_type": "code",
   "execution_count": 7,
   "metadata": {},
   "outputs": [
    {
     "data": {
      "text/plain": [
       "True"
      ]
     },
     "execution_count": 7,
     "metadata": {},
     "output_type": "execute_result"
    }
   ],
   "source": [
    "x = 43\n",
    "y = False\n",
    "x >= y and 'A' < 'B' and not y"
   ]
  },
  {
   "cell_type": "markdown",
   "metadata": {},
   "source": [
    "(4)以下程序的输出结果是(提示:`ord('a')==97`)\n",
    "\n",
    "`lista = [1,2,3,4,5,'a','b','c','d','e']\n",
    "print(lista[2] + ord(lista[5])`\n",
    "\n",
    "`\n",
    "A.100\n",
    "B.'d'\n",
    "C.d\n",
    "D.TypeError\n",
    "`\n"
   ]
  },
  {
   "cell_type": "code",
   "execution_count": 8,
   "metadata": {},
   "outputs": [
    {
     "name": "stdout",
     "output_type": "stream",
     "text": [
      "100\n"
     ]
    }
   ],
   "source": [
    "lista = [1,2,3,4,5,'a','b','c','d','e']\n",
    "x = lista[2] + ord(lista[5])\n",
    "print (x)"
   ]
  },
  {
   "cell_type": "markdown",
   "metadata": {},
   "source": [
    "(5)下面那个语句在Python中是非法的？()。\n",
    "\n",
    "`\n",
    "A.x=y=z=1\n",
    "B.x=(y=z+1)\n",
    "C.x,y=y,x\n",
    "D.x+=y\n",
    "`"
   ]
  },
  {
   "cell_type": "code",
   "execution_count": 9,
   "metadata": {},
   "outputs": [
    {
     "ename": "SyntaxError",
     "evalue": "invalid syntax (<ipython-input-9-98591ccb645e>, line 1)",
     "output_type": "error",
     "traceback": [
      "\u001b[1;36m  File \u001b[1;32m\"<ipython-input-9-98591ccb645e>\"\u001b[1;36m, line \u001b[1;32m1\u001b[0m\n\u001b[1;33m    x = (y = z + 1)\u001b[0m\n\u001b[1;37m           ^\u001b[0m\n\u001b[1;31mSyntaxError\u001b[0m\u001b[1;31m:\u001b[0m invalid syntax\n"
     ]
    }
   ],
   "source": [
    "x = (y = z + 1)"
   ]
  },
  {
   "cell_type": "markdown",
   "metadata": {},
   "source": [
    "(6)下面的循环体执行的次数与其他不同的是()。\n",
    "\n",
    "`\n",
    "A.\n",
    "    i=0\n",
    "    while(i<=100):\n",
    "        print(i)\n",
    "        i=i+1\n",
    "B.\n",
    "    for i in range(100):\n",
    "        print(i)\n",
    "C.\n",
    "    for i in range(100,0,-1):\n",
    "        print(i)\n",
    "D.\n",
    "    i = 100\n",
    "    while(i>10):\n",
    "        print(i)\n",
    "        i = i-1\n",
    "`"
   ]
  },
  {
   "cell_type": "code",
   "execution_count": 10,
   "metadata": {
    "scrolled": true
   },
   "outputs": [
    {
     "name": "stdout",
     "output_type": "stream",
     "text": [
      "100\n",
      "99\n",
      "98\n",
      "97\n",
      "96\n",
      "95\n",
      "94\n",
      "93\n",
      "92\n",
      "91\n",
      "90\n",
      "89\n",
      "88\n",
      "87\n",
      "86\n",
      "85\n",
      "84\n",
      "83\n",
      "82\n",
      "81\n",
      "80\n",
      "79\n",
      "78\n",
      "77\n",
      "76\n",
      "75\n",
      "74\n",
      "73\n",
      "72\n",
      "71\n",
      "70\n",
      "69\n",
      "68\n",
      "67\n",
      "66\n",
      "65\n",
      "64\n",
      "63\n",
      "62\n",
      "61\n",
      "60\n",
      "59\n",
      "58\n",
      "57\n",
      "56\n",
      "55\n",
      "54\n",
      "53\n",
      "52\n",
      "51\n",
      "50\n",
      "49\n",
      "48\n",
      "47\n",
      "46\n",
      "45\n",
      "44\n",
      "43\n",
      "42\n",
      "41\n",
      "40\n",
      "39\n",
      "38\n",
      "37\n",
      "36\n",
      "35\n",
      "34\n",
      "33\n",
      "32\n",
      "31\n",
      "30\n",
      "29\n",
      "28\n",
      "27\n",
      "26\n",
      "25\n",
      "24\n",
      "23\n",
      "22\n",
      "21\n",
      "20\n",
      "19\n",
      "18\n",
      "17\n",
      "16\n",
      "15\n",
      "14\n",
      "13\n",
      "12\n",
      "11\n"
     ]
    }
   ],
   "source": [
    "i = 100\n",
    "while (i > 10):\n",
    "    print (i)\n",
    "    i =i - 1"
   ]
  },
  {
   "cell_type": "markdown",
   "metadata": {},
   "source": [
    "# 问答题"
   ]
  },
  {
   "cell_type": "markdown",
   "metadata": {},
   "source": [
    "(1) 分析逻辑运算符or的惰性求值特性。\n",
    "\n",
    "(2)Python中pass语句的作用是什么？\n",
    "\n",
    "(3)简述Pyhon中range()函数的用法。\n",
    "\n",
    "(4)Python中break、continue语句的作用是什么?"
   ]
  },
  {
   "cell_type": "code",
   "execution_count": 11,
   "metadata": {},
   "outputs": [
    {
     "data": {
      "text/plain": [
       "True"
      ]
     },
     "execution_count": 11,
     "metadata": {},
     "output_type": "execute_result"
    }
   ],
   "source": [
    "#(1)\n",
    "1 < 2 or 3 < 2"
   ]
  },
  {
   "cell_type": "code",
   "execution_count": 4,
   "metadata": {},
   "outputs": [
    {
     "name": "stdout",
     "output_type": "stream",
     "text": [
      "l\n",
      "这是pass占位句\n",
      "e\n",
      "t\n",
      "t\n",
      "这是pass占位句\n",
      "e\n",
      "r\n"
     ]
    }
   ],
   "source": [
    "#(2)\n",
    "for i in \"letter\":\n",
    "    if i == \"e\":\n",
    "        pass\n",
    "        print (\"这是pass占位句\")\n",
    "    print (i,end=\"\\n\")"
   ]
  },
  {
   "cell_type": "code",
   "execution_count": 9,
   "metadata": {},
   "outputs": [
    {
     "name": "stdout",
     "output_type": "stream",
     "text": [
      "10\n",
      "9\n",
      "8\n",
      "7\n",
      "6\n",
      "5\n",
      "4\n",
      "3\n",
      "2\n",
      "1\n"
     ]
    }
   ],
   "source": [
    "#range函数返回一个可迭代对象\n",
    "for x in range(10,0,-1):\n",
    "    print (x,end=\"\\n\")"
   ]
  },
  {
   "cell_type": "code",
   "execution_count": 10,
   "metadata": {
    "scrolled": true
   },
   "outputs": [
    {
     "name": "stdout",
     "output_type": "stream",
     "text": [
      "4\n",
      "6\n",
      "8\n",
      "9\n",
      "10\n",
      "12\n",
      "14\n",
      "15\n",
      "16\n",
      "18\n",
      "20\n",
      "21\n",
      "22\n",
      "24\n",
      "25\n",
      "26\n",
      "27\n",
      "28\n",
      "30\n",
      "32\n",
      "33\n",
      "34\n",
      "35\n",
      "36\n",
      "38\n",
      "39\n",
      "40\n",
      "42\n",
      "44\n",
      "45\n",
      "46\n",
      "48\n",
      "49\n",
      "50\n",
      "51\n",
      "52\n",
      "54\n",
      "55\n",
      "56\n",
      "57\n",
      "58\n",
      "60\n",
      "62\n",
      "63\n",
      "64\n",
      "65\n",
      "66\n",
      "68\n",
      "69\n",
      "70\n",
      "72\n",
      "74\n",
      "75\n",
      "76\n",
      "77\n",
      "78\n",
      "80\n",
      "81\n",
      "82\n",
      "84\n",
      "85\n",
      "86\n",
      "87\n",
      "88\n",
      "90\n",
      "91\n",
      "92\n",
      "93\n",
      "94\n",
      "95\n",
      "96\n",
      "98\n",
      "99\n"
     ]
    }
   ],
   "source": [
    "for i in range(1,100):\n",
    "    for j in range (2,i):\n",
    "        if i%j == 0 :\n",
    "            print (i)\n",
    "            break"
   ]
  },
  {
   "cell_type": "markdown",
   "metadata": {},
   "source": [
    "# 实验操作题"
   ]
  },
  {
   "cell_type": "markdown",
   "metadata": {},
   "source": [
    "1、编写输出10以内素数的循环程序."
   ]
  },
  {
   "cell_type": "code",
   "execution_count": 21,
   "metadata": {},
   "outputs": [
    {
     "name": "stdout",
     "output_type": "stream",
     "text": [
      "3\n",
      "5\n",
      "7\n",
      "9\n"
     ]
    }
   ],
   "source": [
    "for i in range (10):\n",
    "    for j in range (2,i):\n",
    "        if i%j == 0:\n",
    "            break\n",
    "        else :\n",
    "            print (i,end=\"\\n\")\n",
    "            break"
   ]
  },
  {
   "cell_type": "markdown",
   "metadata": {},
   "source": [
    "2、使用if-elif-else语句判断输入的数字是整数、负数还是零。使用嵌套的if语句实现同样的功能。"
   ]
  },
  {
   "cell_type": "code",
   "execution_count": 23,
   "metadata": {},
   "outputs": [
    {
     "name": "stdout",
     "output_type": "stream",
     "text": [
      "请输入一个数：0\n",
      "0\n"
     ]
    }
   ],
   "source": [
    "x = int (input(\"请输入一个数：\"))\n",
    "if x > 0 :\n",
    "    print (\"这是一个正数\")\n",
    "elif x < 0:\n",
    "    print (\"这是一个负数\")\n",
    "else :\n",
    "    print (\"0\")"
   ]
  },
  {
   "cell_type": "code",
   "execution_count": 25,
   "metadata": {},
   "outputs": [
    {
     "name": "stdout",
     "output_type": "stream",
     "text": [
      "请输入一个数：10\n",
      "这是一个正数\n"
     ]
    }
   ],
   "source": [
    "x =int(input(\"请输入一个数：\"))\n",
    "if x != 0 :\n",
    "    if x > 0:\n",
    "        print (\"这是一个正数\")\n",
    "    else :\n",
    "        print (\"这是一个负数\")\n",
    "else :\n",
    "    print (\"0\")"
   ]
  },
  {
   "cell_type": "markdown",
   "metadata": {},
   "source": [
    "3、用if语句判断输入的一个数字是奇数还是偶数."
   ]
  },
  {
   "cell_type": "code",
   "execution_count": 26,
   "metadata": {},
   "outputs": [
    {
     "name": "stdout",
     "output_type": "stream",
     "text": [
      "请输入一个数：-7\n",
      "这是一个奇数\n"
     ]
    }
   ],
   "source": [
    "number = int (input(\"请输入一个数：\"))\n",
    "if number%2 == 0:\n",
    "    print (\"这是一个偶数\")\n",
    "else :\n",
    "    print (\"这是一个奇数\")"
   ]
  },
  {
   "cell_type": "markdown",
   "metadata": {},
   "source": [
    "4、用if语句判断用户输入的年份是否为闰年."
   ]
  },
  {
   "cell_type": "code",
   "execution_count": 27,
   "metadata": {},
   "outputs": [
    {
     "name": "stdout",
     "output_type": "stream",
     "text": [
      "请输入一个年份：1900\n",
      "平年\n"
     ]
    }
   ],
   "source": [
    "year =int (input(\"请输入一个年份：\"))\n",
    "if year%100 ==0:\n",
    "    if year%400 == 0:\n",
    "        print (\"闰年\")\n",
    "    else :\n",
    "        print (\"平年\")\n",
    "else :\n",
    "    if year%4 == 0:\n",
    "        print (\"闰年\")\n",
    "    else :\n",
    "        print (\"平年\")"
   ]
  },
  {
   "cell_type": "markdown",
   "metadata": {},
   "source": [
    "5、使用标准格式输出阶乘(factorial)。整数的阶乘是所有小于及等于该数的正整数的积，即:`n!=1*2*3*...*n`。0的阶乘定义为1。"
   ]
  },
  {
   "cell_type": "code",
   "execution_count": 29,
   "metadata": {},
   "outputs": [
    {
     "name": "stdout",
     "output_type": "stream",
     "text": [
      "请输入一个数：12\n",
      "这个数的阶层为: 479001600\n"
     ]
    }
   ],
   "source": [
    "import math \n",
    "\n",
    "num = int (input(\"请输入一个数：\"))\n",
    "number = math.factorial (num)\n",
    "print (\"这个数的阶层为:\",number)"
   ]
  },
  {
   "cell_type": "markdown",
   "metadata": {},
   "source": [
    "6、改进九九乘法表,用for语句和range()函数实现。建议使用end换行。"
   ]
  },
  {
   "cell_type": "code",
   "execution_count": 42,
   "metadata": {},
   "outputs": [
    {
     "name": "stdout",
     "output_type": "stream",
     "text": [
      "1 * 1 = 1 \n",
      "2 * 1 = 2 2 * 2 = 4 \n",
      "3 * 1 = 3 3 * 2 = 6 3 * 3 = 9 \n",
      "4 * 1 = 4 4 * 2 = 8 4 * 3 = 12 4 * 4 = 16 \n",
      "5 * 1 = 5 5 * 2 = 10 5 * 3 = 15 5 * 4 = 20 5 * 5 = 25 \n",
      "6 * 1 = 6 6 * 2 = 12 6 * 3 = 18 6 * 4 = 24 6 * 5 = 30 6 * 6 = 36 \n",
      "7 * 1 = 7 7 * 2 = 14 7 * 3 = 21 7 * 4 = 28 7 * 5 = 35 7 * 6 = 42 7 * 7 = 49 \n",
      "8 * 1 = 8 8 * 2 = 16 8 * 3 = 24 8 * 4 = 32 8 * 5 = 40 8 * 6 = 48 8 * 7 = 56 8 * 8 = 64 \n",
      "9 * 1 = 9 9 * 2 = 18 9 * 3 = 27 9 * 4 = 36 9 * 5 = 45 9 * 6 = 54 9 * 7 = 63 9 * 8 = 72 9 * 9 = 81 \n"
     ]
    }
   ],
   "source": [
    "for i in range (1,10):\n",
    "    for j in range (1,i+1):\n",
    "        if i >=j :\n",
    "            print (i,\"*\",j,\"=\",i*j,end =\" \")\n",
    "    print ()"
   ]
  },
  {
   "cell_type": "markdown",
   "metadata": {},
   "source": [
    "7、求制定区间内的水仙花数(亦称阿姆斯特朗数),要求使用循环语句和判断语句。\n",
    "\n",
    "如果一个$n$位正整数等于其各位数字的立方之和，则称该数为水仙花数或阿姆斯特朗数,例如$3^3+7^3+0^3=370$。1000以内的水仙花数有：153，370，371，407."
   ]
  },
  {
   "cell_type": "code",
   "execution_count": 1,
   "metadata": {
    "scrolled": true
   },
   "outputs": [
    {
     "name": "stdout",
     "output_type": "stream",
     "text": [
      "最小值：10\n",
      "最大值：1000\n",
      "153 370 371 407 "
     ]
    }
   ],
   "source": [
    "def isA(n):                                 # def可以定义一个函数\n",
    "    sum = 0                                 # 赋给sum初始值\n",
    "    for i in str(n):                        # 将n转换为str类型可直接遍历元素\n",
    "        sum += int(i) ** len(str(n))\n",
    "    if sum == n:\n",
    "        return True\n",
    "    else:\n",
    "        return False\n",
    "\n",
    "lower = int(input('最小值：'))\n",
    "upper = int(input('最大值：'))\n",
    "\n",
    "for j in range(lower,upper + 1):\n",
    "    if isA(j):                              # 调用isA()判断函数\n",
    "        print(j, end=' ')"
   ]
  },
  {
   "cell_type": "code",
   "execution_count": null,
   "metadata": {},
   "outputs": [],
   "source": []
  }
 ],
 "metadata": {
  "kernelspec": {
   "display_name": "Python 3",
   "language": "python",
   "name": "python3"
  },
  "language_info": {
   "codemirror_mode": {
    "name": "ipython",
    "version": 3
   },
   "file_extension": ".py",
   "mimetype": "text/x-python",
   "name": "python",
   "nbconvert_exporter": "python",
   "pygments_lexer": "ipython3",
   "version": "3.8.5"
  },
  "toc": {
   "base_numbering": 1,
   "nav_menu": {},
   "number_sections": true,
   "sideBar": true,
   "skip_h1_title": false,
   "title_cell": "Table of Contents",
   "title_sidebar": "Contents",
   "toc_cell": false,
   "toc_position": {},
   "toc_section_display": true,
   "toc_window_display": false
  }
 },
 "nbformat": 4,
 "nbformat_minor": 4
}
