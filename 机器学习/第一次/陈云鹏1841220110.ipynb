{
 "cells": [
  {
   "cell_type": "markdown",
   "metadata": {},
   "source": [
    "# 姓名：陈云鹏"
   ]
  },
  {
   "cell_type": "markdown",
   "metadata": {},
   "source": [
    "# 学号：1841220110"
   ]
  },
  {
   "cell_type": "markdown",
   "metadata": {},
   "source": [
    "# 作业：第一次作业(2021.03.19)"
   ]
  },
  {
   "cell_type": "markdown",
   "metadata": {},
   "source": [
    "# 概念："
   ]
  },
  {
   "cell_type": "markdown",
   "metadata": {},
   "source": [
    "主成分分析：将多个变量通过线性变换以选出较少个数重要变量的一种多元统计分析方法。又称主分量分析。"
   ]
  },
  {
   "cell_type": "markdown",
   "metadata": {},
   "source": [
    "# 原理："
   ]
  },
  {
   "cell_type": "markdown",
   "metadata": {},
   "source": [
    "  在用统计分析方法研究多变量的课题时，变量个数太多就会增加课题的复杂性。人们自然希望变量个数较少而得到的信息较多。在很多情形，变量之间是有一定的相关关系的，当两个变量之间有一定相关关系时，可以解释为这两个变量反映此课题的信息有一定的重叠。主成分分析是对于原先提出的所有变量，将重复的变量（关系紧密的变量）删去多余，建立尽可能少的新变量，使得这些新变量是两两不相关的，而且这些新变量在反映课题的信息方面尽可能保持原有的信息。\n",
    "  设法将原来变量重新组合成一组新的互相无关的几个综合变量，同时根据实际需要从中可以取出几个较少的综合变量尽可能多地反映原来变量的信息的统计方法叫做主成分分析或称主分量分析，也是数学上用来降维的一种方法。"
   ]
  },
  {
   "cell_type": "markdown",
   "metadata": {},
   "source": [
    "# 题目要求："
   ]
  },
  {
   "cell_type": "markdown",
   "metadata": {},
   "source": [
    "探究用户对物品类别的喜好细分降维"
   ]
  },
  {
   "cell_type": "markdown",
   "metadata": {},
   "source": [
    "## 数据如下："
   ]
  },
  {
   "cell_type": "markdown",
   "metadata": {},
   "source": [
    "(1).order_products__prior.csv：订单与商品信息\n",
    "字段：order_id, product_id, add_to_cart_order, reordered\n",
    "\n",
    "(2).products.csv：商品信息\n",
    "字段：product_id, product_name, aisle_id, department_id\n",
    "\n",
    "(3).orders.csv：用户的订单信息\n",
    "字段：order_id,user_id,eval_set,order_number,….\n",
    "\n",
    "(4).aisles.csv：商品所属具体物品类别\n",
    "字段： aisle_id, aisle"
   ]
  },
  {
   "cell_type": "markdown",
   "metadata": {},
   "source": [
    "# 完整代码"
   ]
  },
  {
   "cell_type": "code",
   "execution_count": 1,
   "metadata": {},
   "outputs": [
    {
     "name": "stdout",
     "output_type": "stream",
     "text": [
      "(206209, 44)\n"
     ]
    }
   ],
   "source": [
    "import pandas as pd\n",
    "from sklearn.decomposition import PCA\n",
    "\n",
    "# 1、获取数据集\n",
    "# ·商品信息- products.csv：\n",
    "# Fields：product_id, product_name, aisle_id, department_id\n",
    "# ·订单与商品信息- order_products__prior.csv：\n",
    "# Fields：order_id, product_id, add_to_cart_order, reordered \n",
    "# ·用户的订单信息- orders.csv：\n",
    "# Fields：order_id, user_id,eval_set, order_number,order_dow, order_hour_of_day, days_since_prior_order \n",
    "# ·商品所属具体物品类别- aisles.csv：\n",
    "# Fields：aisle_id, aisle     \n",
    "products = pd.read_csv(\"./instacart/products.csv\")\n",
    "order_products = pd.read_csv(\"./instacart/order_products__prior.csv\")\n",
    "orders = pd.read_csv(\"./instacart/orders.csv\")\n",
    "aisles = pd.read_csv(\"./instacart/aisles.csv\")\n",
    "\n",
    "# 2、合并表，将user_id和aisle放在一张表上\n",
    "# 1）合并orders和order_products on=order_id tab1:order_id, product_id, user_id\n",
    "tab1 = pd.merge(orders, order_products, on=[\"order_id\", \"order_id\"])\n",
    "# 2）合并tab1和products on=product_id tab2:aisle_id\n",
    "tab2 = pd.merge(tab1, products, on=[\"product_id\", \"product_id\"])\n",
    "# 3）合并tab2和aisles on=aisle_id tab3:user_id, aisle\n",
    "tab3 = pd.merge(tab2, aisles, on=[\"aisle_id\", \"aisle_id\"])\n",
    "\n",
    "# 3、交叉表处理，把user_id和aisle进行分组\n",
    "table = pd.crosstab(tab3[\"user_id\"], tab3[\"aisle\"])\n",
    "\n",
    "# 4、主成分分析的方法进行降维\n",
    "# 1）实例化一个转换器类PCA\n",
    "transfer = PCA(n_components=0.95)\n",
    "# 2）fit_transform\n",
    "data = transfer.fit_transform(table)\n",
    "print(data.shape)"
   ]
  }
 ],
 "metadata": {
  "kernelspec": {
   "display_name": "Python 3",
   "language": "python",
   "name": "python3"
  },
  "language_info": {
   "codemirror_mode": {
    "name": "ipython",
    "version": 3
   },
   "file_extension": ".py",
   "mimetype": "text/x-python",
   "name": "python",
   "nbconvert_exporter": "python",
   "pygments_lexer": "ipython3",
   "version": "3.8.5"
  }
 },
 "nbformat": 4,
 "nbformat_minor": 4
}
