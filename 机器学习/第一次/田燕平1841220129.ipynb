{
 "cells": [
  {
   "cell_type": "markdown",
   "metadata": {},
   "source": [
    "主成分分析原理：\n",
    "    在用统计分析方法研究多变量的课题时，变量个数太多就会增加课题的复杂性。人们自然希望变量个数较少而得到的信息较多。在很多情形，变量之间是有一定的相关关系的，当两个变量之间有一定相关关系时，可以解释为这两个变量反映此课题的信息有一定的重叠。主成分分析是对于原先提出的所有变量，将重复的变量（关系紧密的变量）删去多余，建立尽可能少的新变量，使得这些新变量是两两不相关的，而且这些新变量在反映课题的信息方面尽可能保持原有的信息。"
   ]
  },
  {
   "cell_type": "code",
   "execution_count": 6,
   "metadata": {},
   "outputs": [
    {
     "name": "stdout",
     "output_type": "stream",
     "text": [
      "保留90%的信息，降维结果为：\n",
      " (206209, 27)\n"
     ]
    }
   ],
   "source": [
    "import pandas as pd\n",
    "from sklearn.decomposition import PCA\n",
    "\n",
    "# 1、获取order_products__prior， products， orders，aisles 数据    \n",
    "products = pd.read_csv(\"./instacart/products.csv\")\n",
    "order_products = pd.read_csv(\"./instacart/order_products__prior.csv\")\n",
    "orders = pd.read_csv(\"./instacart/orders.csv\")\n",
    "aisles = pd.read_csv(\"./instacart/aisles.csv\")\n",
    "\n",
    "# 2、合并orders表和order_products表为tab1表，得到user_id与product_id的关系\n",
    "tab1 = pd.merge(orders, order_products, on=[\"order_id\", \"order_id\"])\n",
    "\n",
    "# 3合并tab1表和products表为tab2表，得到user_id与aisle_id的关系\n",
    "tab2 = pd.merge(tab1, products, on=[\"product_id\", \"product_id\"])\n",
    "\n",
    "# 4合并tab2表和aisles表为tab3表，得到user_id与aisle的关系\n",
    "tab3 = pd.merge(tab2, aisles, on=[\"aisle_id\", \"aisle_id\"])\n",
    "\n",
    "# 5交叉表处理，把user_id和aisle进行分组得到tab4表\n",
    "tab4 = pd.crosstab(tab3[\"user_id\"], tab3[\"aisle\"])\n",
    "\n",
    "# 6实例化一个转换器类PCA,保存90%的信息\n",
    "transfer = PCA(n_components=0.90)\n",
    "data = transfer.fit_transform(tab4)\n",
    "\n",
    "data.shape\n",
    "print(\"保留90%的信息，降维结果为：\\n\", data.shape)"
   ]
  },
  {
   "cell_type": "code",
   "execution_count": null,
   "metadata": {},
   "outputs": [],
   "source": []
  },
  {
   "cell_type": "code",
   "execution_count": null,
   "metadata": {},
   "outputs": [],
   "source": []
  }
 ],
 "metadata": {
  "kernelspec": {
   "display_name": "Python 3",
   "language": "python",
   "name": "python3"
  },
  "language_info": {
   "codemirror_mode": {
    "name": "ipython",
    "version": 3
   },
   "file_extension": ".py",
   "mimetype": "text/x-python",
   "name": "python",
   "nbconvert_exporter": "python",
   "pygments_lexer": "ipython3",
   "version": "3.8.5"
  }
 },
 "nbformat": 4,
 "nbformat_minor": 4
}
