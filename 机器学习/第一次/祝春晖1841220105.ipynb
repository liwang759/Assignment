{
 "cells": [
  {
   "cell_type": "markdown",
   "metadata": {},
   "source": [
    "主成分分析(PCA)的理解：高维数据转化为低维数据的过程，损失少量信息，降低原数据的复杂度。"
   ]
  },
  {
   "cell_type": "code",
   "execution_count": 1,
   "metadata": {},
   "outputs": [
    {
     "name": "stdout",
     "output_type": "stream",
     "text": [
      "(206209, 44)\n"
     ]
    }
   ],
   "source": [
    "import pandas as pd\n",
    "from sklearn.decomposition import PCA\n",
    "\n",
    "def pca_dome():\n",
    "    '''\n",
    "    对数据进行PCA降维\n",
    "    :return:\n",
    "    '''\n",
    "    # 1、获取数据\n",
    "    #商品信息-products.csv:\n",
    "    #fields:product_id,product_name,aisle_id,department_id\n",
    "    #订单与商品信息-order_products_prior.csv\n",
    "    #fields:order_id，product_id,add_to_cart_order,reordered\n",
    "    #用户订单信息-orders_csv\n",
    "    #fields:order_id,user_id,eval_set,order_number,order_dow,order_hour_of_day,days_since_prior_order\n",
    "    #商品信息-aisles.csv\n",
    "    #fields:aisle_id,aisle\n",
    "    products = pd.read_csv(\"./instacart/products.csv\")\n",
    "    order_products = pd.read_csv(\"./instacart/order_products__prior.csv\")\n",
    "    orders = pd.read_csv(\"./instacart/orders.csv\")\n",
    "    aisles = pd.read_csv(\"./instacart/aisles.csv\")\n",
    "    # 2、合并表，将user_id和aisle_id放在一张表上\n",
    "    #合并orders和order_products on=order_id tab1:order_id, product_id, user_id\n",
    "    tab1 = pd.merge(orders, order_products, on=[\"order_id\", \"order_id\"])\n",
    "    #合并tab1和products on=product_id tab2:aisle_id\n",
    "    tab2 = pd.merge(tab1, products, on=[\"product_id\", \"product_id\"])\n",
    "    # 3、交叉表处理、把user_id和aisle_id进行分组\n",
    "    table = pd.crosstab(tab2[\"user_id\"], tab2[\"aisle_id\"])\n",
    "    # 4、主成分分析的方法进行降维\n",
    "    #实例化一个转换器类PCA\n",
    "    transfer = PCA(n_components=0.95)\n",
    "    # 5、调用fit.transform函数\n",
    "    data = transfer.fit_transform(table)\n",
    "    print(data.shape)\n",
    "    return None\n",
    "if __name__ == '__main__':\n",
    "    pca_dome()"
   ]
  },
  {
   "cell_type": "code",
   "execution_count": null,
   "metadata": {},
   "outputs": [],
   "source": []
  }
 ],
 "metadata": {
  "kernelspec": {
   "display_name": "Python 3",
   "language": "python",
   "name": "python3"
  },
  "language_info": {
   "codemirror_mode": {
    "name": "ipython",
    "version": 3
   },
   "file_extension": ".py",
   "mimetype": "text/x-python",
   "name": "python",
   "nbconvert_exporter": "python",
   "pygments_lexer": "ipython3",
   "version": "3.8.5"
  }
 },
 "nbformat": 4,
 "nbformat_minor": 4
}
