{
 "cells": [
  {
   "cell_type": "markdown",
   "metadata": {},
   "source": [
    "用主成分分析关于对用户武平类别的喜好细分降维"
   ]
  },
  {
   "cell_type": "code",
   "execution_count": 2,
   "metadata": {},
   "outputs": [
    {
     "name": "stdout",
     "output_type": "stream",
     "text": [
      "(206209, 17)\n"
     ]
    }
   ],
   "source": [
    "#导入函数\n",
    "import pandas as pd\n",
    "from sklearn.decomposition import PCA\n",
    "\n",
    "#获取数据\n",
    "# 商品信息- products.csv：\n",
    "# Fields：product_id, product_name, aisle_id, department_id\n",
    "products = pd.read_csv(\"./instacart/products.csv\")\n",
    "\n",
    "# 订单与商品信息- order_products__prior.csv：\n",
    "# Fields：order_id, product_id, add_to_cart_order, reordered \n",
    "order_products = pd.read_csv(\"./instacart/order_products__prior.csv\")\n",
    "\n",
    "# 用户的订单信息- orders.csv：\n",
    "# Fields：order_id, user_id,eval_set, order_number,order_dow, order_hour_of_day, days_since_prior_order \n",
    "orders = pd.read_csv(\"./instacart/orders.csv\")\n",
    "\n",
    "# 商品所属具体物品类别- aisles.csv：\n",
    "# Fields：aisle_id, aisle     \n",
    "aisles = pd.read_csv(\"./instacart/aisles.csv\")\n",
    "\n",
    "# 合并表，将user_id和aisle放在一张表上\n",
    "# 1）合并orders和order_products on=order_id tab1:order_id, product_id, user_id\n",
    "tab1 = pd.merge(orders, order_products, on=[\"order_id\", \"order_id\"])\n",
    "\n",
    "# 合并tab1和products on=product_id tab2:aisle_id\n",
    "tab2 = pd.merge(tab1, products, on=[\"product_id\", \"product_id\"])\n",
    "\n",
    "# 合并tab2和aisles on=aisle_id tab3:user_id, aisle\n",
    "tab3 = pd.merge(tab2, aisles, on=[\"aisle_id\", \"aisle_id\"])\n",
    "\n",
    "# 交叉表处理，把user_id和aisle进行分组\n",
    "table = pd.crosstab(tab3[\"user_id\"], tab3[\"aisle\"])\n",
    "\n",
    "#主成分分析的方法进行降维\n",
    "# 实例化一个转换器类PCA\n",
    "#这里我们将参数调整为0.85，让其保留85%的信息\n",
    "transfer = PCA(n_components=0.85)\n",
    "data = transfer.fit_transform(table)\n",
    "\n",
    "#输出结果的\n",
    "data.shape\n",
    "print(data.shape)"
   ]
  },
  {
   "cell_type": "code",
   "execution_count": null,
   "metadata": {},
   "outputs": [],
   "source": []
  }
 ],
 "metadata": {
  "kernelspec": {
   "display_name": "Python 3",
   "language": "python",
   "name": "python3"
  },
  "language_info": {
   "codemirror_mode": {
    "name": "ipython",
    "version": 3
   },
   "file_extension": ".py",
   "mimetype": "text/x-python",
   "name": "python",
   "nbconvert_exporter": "python",
   "pygments_lexer": "ipython3",
   "version": "3.8.5"
  }
 },
 "nbformat": 4,
 "nbformat_minor": 4
}
