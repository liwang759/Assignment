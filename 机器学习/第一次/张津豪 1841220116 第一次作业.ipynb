{
 "cells": [
  {
   "cell_type": "code",
   "execution_count": 5,
   "metadata": {},
   "outputs": [],
   "source": [
    "import pandas as pd"
   ]
  },
  {
   "cell_type": "code",
   "execution_count": 6,
   "metadata": {},
   "outputs": [],
   "source": [
    "from sklearn.decomposition import PCA"
   ]
  },
  {
   "cell_type": "code",
   "execution_count": 17,
   "metadata": {},
   "outputs": [],
   "source": [
    "#1.获取数据\n",
    "# ·商品信息- products.csv：\n",
    "# Fields：product_id, product_name, aisle_id, department_id\n",
    "# ·订单与商品信息- order_products__prior.csv：\n",
    "# Fields：order_id, product_id, add_to_cart_order, reordered \n",
    "# ·用户的订单信息- orders.csv：\n",
    "# Fields：order_id, user_id,eval_set, order_number,order_dow, order_hour_of_day, days_since_prior_order \n",
    "# ·商品所属具体物品类别- aisles.csv：\n",
    "# Fields：aisle_id, aisle     \n",
    "data=pd.read_csv('F:/BaiduNetdiskDownload/instacart/instacart/products.csv')\n",
    "order_products=pd.read_csv('F:/BaiduNetdiskDownload/instacart/instacart/order_products__prior.csv')\n",
    "orders=pd.read_csv('F:/BaiduNetdiskDownload/instacart/instacart/orders.csv')\n",
    "aisles=pd.read_csv('F:/BaiduNetdiskDownload/instacart/instacart/aisles.csv')\n",
    "products = pd.read_csv('F:/BaiduNetdiskDownload/instacart/instacart/products.csv')"
   ]
  },
  {
   "cell_type": "code",
   "execution_count": 19,
   "metadata": {},
   "outputs": [],
   "source": [
    "#2.合并表，将user_id和aisle放在一张表上\n",
    "# 1）合并orders和order_products on=order_id tab1:order_id, product_id, user_id\n",
    "tab1=pd.merge(orders, order_products, on=[\"order_id\", \"order_id\"])\n",
    "#2)合并tab1和products on=product_id tab2:aisle_id\n",
    "tab2=pd.merge(tab1,products,on=[\"product_id\",\"product_id\"])\n",
    "# 3）合并tab2和aisles on=aisle_id tab3:user_id, aisle\n",
    "tab3=pd.merge(tab2,aisles,on=[\"aisle_id\",\"aisle_id\"])"
   ]
  },
  {
   "cell_type": "code",
   "execution_count": 20,
   "metadata": {},
   "outputs": [],
   "source": [
    "# 3、交叉表处理，把user_id和aisle进行分组\n",
    "table = pd.crosstab(tab3[\"user_id\"], tab3[\"aisle\"])"
   ]
  },
  {
   "cell_type": "code",
   "execution_count": 21,
   "metadata": {},
   "outputs": [],
   "source": [
    "# 4、主成分分析的方法进行降维\n",
    "# 1）实例化一个转换器类PCA\n",
    "transfer = PCA(n_components=0.95)"
   ]
  },
  {
   "cell_type": "code",
   "execution_count": 22,
   "metadata": {},
   "outputs": [],
   "source": [
    "# 2）fit_transform\n",
    "data = transfer.fit_transform(table)"
   ]
  },
  {
   "cell_type": "code",
   "execution_count": 23,
   "metadata": {},
   "outputs": [
    {
     "data": {
      "text/plain": [
       "(206209, 44)"
      ]
     },
     "execution_count": 23,
     "metadata": {},
     "output_type": "execute_result"
    }
   ],
   "source": [
    "data.shape"
   ]
  },
  {
   "cell_type": "code",
   "execution_count": 3,
   "metadata": {},
   "outputs": [
    {
     "data": {
      "text/plain": [
       "'PCA：主成分分析是一种多变量统计方法，他可以从多个数据指标中筛选出几个少量具有代表性的指标作为主成分来表示物品属性，便于我们对数据进行\\n分析，得到需要的结果'"
      ]
     },
     "execution_count": 3,
     "metadata": {},
     "output_type": "execute_result"
    }
   ],
   "source": [
    "'''PCA：主成分分析是一种多变量统计方法，他可以从多个数据指标中筛选出几个少量具有代表性的指标作为主成分来表示物品属性，便于我们对数据进行\n",
    "分析，得到需要的结果'''"
   ]
  },
  {
   "cell_type": "code",
   "execution_count": null,
   "metadata": {},
   "outputs": [],
   "source": []
  }
 ],
 "metadata": {
  "kernelspec": {
   "display_name": "Python 3",
   "language": "python",
   "name": "python3"
  },
  "language_info": {
   "codemirror_mode": {
    "name": "ipython",
    "version": 3
   },
   "file_extension": ".py",
   "mimetype": "text/x-python",
   "name": "python",
   "nbconvert_exporter": "python",
   "pygments_lexer": "ipython3",
   "version": "3.8.5"
  }
 },
 "nbformat": 4,
 "nbformat_minor": 4
}
