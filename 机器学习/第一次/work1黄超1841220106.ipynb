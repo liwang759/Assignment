{
 "cells": [
  {
   "cell_type": "code",
   "execution_count": 1,
   "metadata": {},
   "outputs": [],
   "source": [
    "import pandas as pd\n",
    "from sklearn.decomposition import PCA\n",
    "#获取4个数据集\n",
    "#读取商品信息- products.csv\n",
    "products = pd.read_csv(\"./instacart/products.csv\")\n",
    "#读取订单与商品信息- order_products__prior.csv\n",
    "order_products = pd.read_csv(\"./instacart/order_products__prior.csv\")\n",
    "#读取用户的订单信息- orders.csv\n",
    "orders = pd.read_csv(\"./instacart/orders.csv\")\n",
    "#读取商品所属具体物品类别- aisles.csv\n",
    "aisles = pd.read_csv(\"./instacart/aisles.csv\")"
   ]
  },
  {
   "cell_type": "code",
   "execution_count": 2,
   "metadata": {},
   "outputs": [],
   "source": [
    "#将user_id和aisle放在一张表上\n",
    "#合并orders和order_products\n",
    "tab1 = pd.merge(orders, order_products, on=[\"order_id\", \"order_id\"])\n",
    "#合并tab1和products\n",
    "tab2 = pd.merge(tab1, products, on=[\"product_id\", \"product_id\"])\n",
    "#合并tab2和aisles\n",
    "tab3 = pd.merge(tab2, aisles, on=[\"aisle_id\", \"aisle_id\"])"
   ]
  },
  {
   "cell_type": "code",
   "execution_count": 3,
   "metadata": {},
   "outputs": [
    {
     "name": "stdout",
     "output_type": "stream",
     "text": [
      "(206209, 134)\n"
     ]
    }
   ],
   "source": [
    "#将user_id和aisle进行分组\n",
    "table = pd.crosstab(tab3[\"user_id\"], tab3[\"aisle\"])\n",
    "print(table.shape)"
   ]
  },
  {
   "cell_type": "code",
   "execution_count": 4,
   "metadata": {},
   "outputs": [
    {
     "name": "stdout",
     "output_type": "stream",
     "text": [
      "(206209, 44)\n"
     ]
    }
   ],
   "source": [
    "#进行降维\n",
    "#实例化一个转换器PCA\n",
    "transfer = PCA(n_components=0.95)\n",
    "#fit_transform\n",
    "data = transfer.fit_transform(table)\n",
    "data.shape\n",
    "print(data.shape)"
   ]
  },
  {
   "cell_type": "markdown",
   "metadata": {},
   "source": [
    "PCA的概念\n",
    "\n",
    "PCA(Principal Component Analysis)，即主成分分析方法，是一种使用最广泛的数据降维算法。PCA的主要思想是将n维特征映射到k维上，这k维是全新的正交特征也被称为主成分，是在原有n维特征的基础上重新构造出来的k维特征。PCA的工作就是从原始的空间中顺序地找一组相互正交的坐标轴，新的坐标轴的选择与数据本身是密切相关的。其中，第一个新坐标轴选择是原始数据中方差最大的方向，第二个新坐标轴选取是与第一个坐标轴正交的平面中使得方差最大的，第三个轴是与第1,2个轴正交的平面中方差最大的。依次类推，可以得到n个这样的坐标轴。通过这种方式获得的新的坐标轴，我们发现，大部分方差都包含在前面k个坐标轴中，后面的坐标轴所含的方差几乎为0。于是，我们可以忽略余下的坐标轴，只保留前面k个含有绝大部分方差的坐标轴。事实上，这相当于只保留包含绝大部分方差的维度特征，而忽略包含方差几乎为0的特征维度，实现对数据特征的降维处理。"
   ]
  }
 ],
 "metadata": {
  "kernelspec": {
   "display_name": "Python 3",
   "language": "python",
   "name": "python3"
  },
  "language_info": {
   "codemirror_mode": {
    "name": "ipython",
    "version": 3
   },
   "file_extension": ".py",
   "mimetype": "text/x-python",
   "name": "python",
   "nbconvert_exporter": "python",
   "pygments_lexer": "ipython3",
   "version": "3.8.5"
  }
 },
 "nbformat": 4,
 "nbformat_minor": 4
}
