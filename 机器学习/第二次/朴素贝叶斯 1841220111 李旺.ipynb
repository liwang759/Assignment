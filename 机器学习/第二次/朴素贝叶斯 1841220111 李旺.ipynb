{
 "cells": [
  {
   "cell_type": "code",
   "execution_count": 7,
   "metadata": {},
   "outputs": [
    {
     "name": "stdout",
     "output_type": "stream",
     "text": [
      "预测每篇文章的类别： [14  1  0 ... 15 15  1]\n",
      "真实类别为： [14 12 19 ... 19 19  1]\n",
      "预测准确率为： 0.8501945525291829\n"
     ]
    }
   ],
   "source": [
    "from sklearn.datasets import fetch_20newsgroups#数据集\n",
    "from sklearn.feature_extraction.text import TfidfVectorizer#特征抽取方法\n",
    "from sklearn.model_selection import train_test_split#数据集划分\n",
    "from sklearn.naive_bayes import MultinomialNB#朴素贝叶斯估计器\n",
    "def bayes():\n",
    "    #1、获取数据\n",
    "    news = fetch_20newsgroups(subset='all')\n",
    "    #2、划分数据集\n",
    "    x_train, x_test, y_train, y_test = train_test_split(news.data, news.target, test_size=0.3)\n",
    "    #3、特征工程:特征抽取tfidf\n",
    "    tf = TfidfVectorizer()\n",
    "    x_train = tf.fit_transform(x_train)\n",
    "    x_test = tf.transform(x_test)\n",
    "    #4、贝叶斯预估器流程\n",
    "    mlb = MultinomialNB(alpha=1.0)\n",
    "    mlb.fit(x_train, y_train)\n",
    "    #5、 进行预测\n",
    "    y_predict = mlb.predict(x_test)\n",
    "    print(\"预测每篇文章的类别：\", y_predict)\n",
    "    print(\"真实类别为：\", y_test)\n",
    "    print(\"预测准确率为：\", mlb.score(x_test, y_test))\n",
    "    #5、模型评估'''\n",
    "bayes()"
   ]
  },
  {
   "cell_type": "code",
   "execution_count": null,
   "metadata": {},
   "outputs": [],
   "source": []
  }
 ],
 "metadata": {
  "kernelspec": {
   "display_name": "Python 3",
   "language": "python",
   "name": "python3"
  },
  "language_info": {
   "codemirror_mode": {
    "name": "ipython",
    "version": 3
   },
   "file_extension": ".py",
   "mimetype": "text/x-python",
   "name": "python",
   "nbconvert_exporter": "python",
   "pygments_lexer": "ipython3",
   "version": "3.8.5"
  }
 },
 "nbformat": 4,
 "nbformat_minor": 4
}
