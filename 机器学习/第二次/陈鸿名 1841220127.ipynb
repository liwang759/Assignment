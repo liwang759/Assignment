{
 "cells": [
  {
   "cell_type": "code",
   "execution_count": 1,
   "metadata": {},
   "outputs": [
    {
     "name": "stdout",
     "output_type": "stream",
     "text": [
      "预测每篇文章的类别： [ 6  4 10  3  3 17  3 13 10 13  3  9  4 12 15  2 19 15 15  8]\n",
      "真实类别为： [ 6 12 10  3  3 17  3 13  6 13  3  9  4 12 15  2 19 15  0  8]\n",
      "预测准确率为： 0.8376370711001061\n"
     ]
    }
   ],
   "source": [
    "from sklearn.datasets import fetch_20newsgroups\n",
    "from sklearn.naive_bayes import MultinomialNB\n",
    "from sklearn.feature_extraction.text import TfidfVectorizer\n",
    "from sklearn.model_selection import train_test_split\n",
    "\n",
    "def beyesi_LX():\n",
    "    #获取数据\n",
    "    news = fetch_20newsgroups(subset='all')\n",
    "    #划分数据集\n",
    "    x_train,x_test,y_train,y_test = train_test_split(news.data,news.target,test_size=0.3)\n",
    "    #特征工程，特征抽取tfidf\n",
    "    transfor =TfidfVectorizer()\n",
    "    x_train = transfor.fit_transform(x_train)\n",
    "    x_test = transfor.transform(x_test)\n",
    "    #贝叶斯预估器\n",
    "    bys = MultinomialNB(alpha=1)\n",
    "    bys.fit(x_train,y_train)\n",
    "    #模型预测\n",
    "    predict = bys.predict(x_test)\n",
    "    print(\"预测每篇文章的类别：\", predict[:20])\n",
    "    print(\"真实类别为：\", y_test[:20])\n",
    "    print(\"预测准确率为：\", bys.score(x_test,y_test))\n",
    "    \n",
    "    return None\n",
    "if __name__ == \"__main__\":\n",
    "    beyesi_LX()"
   ]
  },
  {
   "cell_type": "code",
   "execution_count": null,
   "metadata": {},
   "outputs": [],
   "source": []
  }
 ],
 "metadata": {
  "kernelspec": {
   "display_name": "Python 3",
   "language": "python",
   "name": "python3"
  },
  "language_info": {
   "codemirror_mode": {
    "name": "ipython",
    "version": 3
   },
   "file_extension": ".py",
   "mimetype": "text/x-python",
   "name": "python",
   "nbconvert_exporter": "python",
   "pygments_lexer": "ipython3",
   "version": "3.8.5"
  }
 },
 "nbformat": 4,
 "nbformat_minor": 4
}
