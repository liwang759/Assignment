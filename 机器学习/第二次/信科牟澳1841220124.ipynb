{
 "cells": [
  {
   "cell_type": "code",
   "execution_count": 30,
   "metadata": {},
   "outputs": [],
   "source": [
    "from sklearn.datasets import fetch_20newsgroups\n",
    "from sklearn.model_selection import train_test_split\n",
    "from sklearn.feature_extraction.text import TfidfVectorizer\n",
    "from sklearn.naive_bayes import MultinomialNB"
   ]
  },
  {
   "cell_type": "code",
   "execution_count": 31,
   "metadata": {},
   "outputs": [],
   "source": [
    "#1、获取数据\n",
    "news = fetch_20newsgroups(subset='all')"
   ]
  },
  {
   "cell_type": "code",
   "execution_count": 32,
   "metadata": {},
   "outputs": [],
   "source": [
    "#2、进行数据分割\n",
    "x_train,x_test,y_train,y_test = train_test_split(news.data,news.target,test_size=0.3)"
   ]
  },
  {
   "cell_type": "code",
   "execution_count": 33,
   "metadata": {},
   "outputs": [],
   "source": [
    "#3、特征抽取\n",
    "tf = TfidfVectorizer()\n",
    "x_train = tf.fit_transform(x_train)\n",
    "x_test = tf.transform(x_test)"
   ]
  },
  {
   "cell_type": "code",
   "execution_count": 34,
   "metadata": {},
   "outputs": [
    {
     "data": {
      "text/plain": [
       "MultinomialNB()"
      ]
     },
     "execution_count": 34,
     "metadata": {},
     "output_type": "execute_result"
    }
   ],
   "source": [
    "#4、bayes工程\n",
    "mlb = MultinomialNB(alpha=1.0)\n",
    "mlb.fit(x_train,y_train)"
   ]
  },
  {
   "cell_type": "code",
   "execution_count": 35,
   "metadata": {},
   "outputs": [
    {
     "name": "stdout",
     "output_type": "stream",
     "text": [
      " 预测的类别为： [ 0  9 12  4  0 12 13 18  1  2 17  6  9 10  7  4  9  7 15 16  4 16  4  4\n",
      " 12 13 17 10 12 15  9 16  2  4  3  3  9 14 13 13  2 10 16 12  7  7 11  6\n",
      "  4  9  7  3  0  2  7 16 13  6  8  1 11 13  0  1  0  5  7  3  0  4 13 15\n",
      "  4  5 13  3  1 17 16 19  9  3  7  1 15 13  8  8 15 13  0 10  7 11 18  4\n",
      " 12 17  6  9]\n",
      " 真实的类别为： [ 0  9 12  4  0 12 13 18  1  2 13  6  9 10  7  4  9  7 15 16  4 16  4  4\n",
      " 12 13 17 10 12 15  9 18  2  4  3  3  9  6 13 13  2 10 16 12  7  7 11  6\n",
      "  2 10  7 12 19  2  7 16 13  6  8  1 11 13  0  2 19  5  7  2  0  4 13 15\n",
      "  4  2 13  3  1 17 16 19  9  3  7  1  1 13  8  8 15 13  0 10  7 11 18  3\n",
      " 12 17  6  9]\n",
      "预测的准确率： 0.8422355854262469\n"
     ]
    }
   ],
   "source": [
    "#模型预测与评估\n",
    "y_predict=mlb.predict(x_test)\n",
    "print(\" 预测的类别为：\",y_predict[:100])\n",
    "print(\" 真实的类别为：\",y_test[:100])\n",
    "print(\"预测的准确率：\",mlb.score(x_test,y_test))"
   ]
  }
 ],
 "metadata": {
  "kernelspec": {
   "display_name": "Python 3",
   "language": "python",
   "name": "python3"
  },
  "language_info": {
   "codemirror_mode": {
    "name": "ipython",
    "version": 3
   },
   "file_extension": ".py",
   "mimetype": "text/x-python",
   "name": "python",
   "nbconvert_exporter": "python",
   "pygments_lexer": "ipython3",
   "version": "3.8.5"
  }
 },
 "nbformat": 4,
 "nbformat_minor": 4
}
