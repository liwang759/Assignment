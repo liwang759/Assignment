{
 "cells": [
  {
   "cell_type": "code",
   "execution_count": 1,
   "metadata": {},
   "outputs": [],
   "source": [
    "from sklearn.datasets import fetch_20newsgroups\n",
    "from sklearn.model_selection import train_test_split\n",
    "from sklearn.feature_extraction.text import TfidfVectorizer\n",
    "from sklearn.naive_bayes import MultinomialNB\n",
    "#获取数据\n",
    "news = fetch_20newsgroups(subset='all')"
   ]
  },
  {
   "cell_type": "code",
   "execution_count": 2,
   "metadata": {},
   "outputs": [],
   "source": [
    "#划分数据集\n",
    "x_train, x_test, y_train, y_test = train_test_split(news.data, news.target, random_state=22)"
   ]
  },
  {
   "cell_type": "code",
   "execution_count": 3,
   "metadata": {},
   "outputs": [],
   "source": [
    "#特征工程\n",
    "#特征抽取\n",
    "# 对于文本数据，进行特征抽取（分词处理）\n",
    "tf = TfidfVectorizer()\n",
    "x_train = tf.fit_transform(x_train)\n",
    "x_test = tf.transform(x_test)"
   ]
  },
  {
   "cell_type": "code",
   "execution_count": 4,
   "metadata": {},
   "outputs": [
    {
     "data": {
      "text/plain": [
       "MultinomialNB()"
      ]
     },
     "execution_count": 4,
     "metadata": {},
     "output_type": "execute_result"
    }
   ],
   "source": [
    "#朴素贝叶斯预估器流程sklearn.naive_bayes.MultinomialNB(alpha = 1.0)\n",
    "mlb = MultinomialNB(alpha=1.0)\n",
    "mlb.fit(x_train, y_train)"
   ]
  },
  {
   "cell_type": "code",
   "execution_count": 5,
   "metadata": {},
   "outputs": [
    {
     "name": "stdout",
     "output_type": "stream",
     "text": [
      "预测每篇文章的类别： [15 13 16 18 13 14  4 17  3 13 10 11 10 10  6  5  3  6  8 12  4  7 14 11\n",
      "  8  7 15 14 14  2 17  6 13  3  1 18  1 17 16  3  6 11 19  3 15  7 14 15\n",
      " 10 16 16 15 12 17  4  9  0 16 10 15  2  8 16 17 14 18  8  1  7  9  8  5\n",
      " 12 10 15  8  0 11 13  2 13 15 12 14  3 13 10 16  1 17  3  1  7  6 10 10\n",
      " 18 11  5 15]\n",
      "真实类别为： [15 13 16 18 13 14  6 17  1 13 10 11 10 10  6  5  3  6  8 12  4  7 14 11\n",
      "  8  7 15 14 14  2 17  6 13  6  1 18  1 17 16 12  6 11 19  3 15  7 14  9\n",
      " 10 16 16 15 12 17  4  9  0 16 10 15  2  8 16 17 14 18  8  1  7  9  8  5\n",
      " 12 10 15  8  0 11 13  2 13 15 12 14  3 13 10 16  1 17  3  1  7  6 10 10\n",
      " 18 11  5 15]\n",
      "预测准确率为： 0.8442275042444821\n"
     ]
    }
   ],
   "source": [
    "#模型预测评估\n",
    "y_predict = mlb.predict(x_test)\n",
    "print(\"预测每篇文章的类别：\", y_predict[:100])\n",
    "print(\"真实类别为：\", y_test[:100])\n",
    "print(\"预测准确率为：\", mlb.score(x_test, y_test))"
   ]
  },
  {
   "cell_type": "code",
   "execution_count": null,
   "metadata": {},
   "outputs": [],
   "source": []
  },
  {
   "cell_type": "code",
   "execution_count": null,
   "metadata": {},
   "outputs": [],
   "source": []
  },
  {
   "cell_type": "code",
   "execution_count": null,
   "metadata": {},
   "outputs": [],
   "source": []
  }
 ],
 "metadata": {
  "kernelspec": {
   "display_name": "Python 3",
   "language": "python",
   "name": "python3"
  },
  "language_info": {
   "codemirror_mode": {
    "name": "ipython",
    "version": 3
   },
   "file_extension": ".py",
   "mimetype": "text/x-python",
   "name": "python",
   "nbconvert_exporter": "python",
   "pygments_lexer": "ipython3",
   "version": "3.8.5"
  }
 },
 "nbformat": 4,
 "nbformat_minor": 4
}
