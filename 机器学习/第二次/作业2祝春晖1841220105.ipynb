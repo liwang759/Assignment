{
 "cells": [
  {
   "cell_type": "code",
   "execution_count": 25,
   "metadata": {},
   "outputs": [],
   "source": [
    "from sklearn.datasets import fetch_20newsgroups\n",
    "from sklearn.model_selection import train_test_split\n",
    "from sklearn.feature_extraction.text import TfidfVectorizer\n",
    "from sklearn.naive_bayes import MultinomialNB"
   ]
  },
  {
   "cell_type": "code",
   "execution_count": 26,
   "metadata": {},
   "outputs": [],
   "source": [
    "#1、获取数据\n",
    "news = fetch_20newsgroups(subset='all')"
   ]
  },
  {
   "cell_type": "code",
   "execution_count": 27,
   "metadata": {},
   "outputs": [],
   "source": [
    "#2、划分数据集\n",
    "x_train,x_test,y_train,y_test = train_test_split(news.data,news.target,test_size=0.3)"
   ]
  },
  {
   "cell_type": "code",
   "execution_count": 28,
   "metadata": {},
   "outputs": [],
   "source": [
    "#3、特征工程\n",
    "#对文本进行特征抽取\n",
    "tf = TfidfVectorizer()\n",
    "x_train = tf.fit_transform(x_train)\n",
    "x_test = tf.transform(x_test)"
   ]
  },
  {
   "cell_type": "code",
   "execution_count": 29,
   "metadata": {},
   "outputs": [
    {
     "data": {
      "text/plain": [
       "MultinomialNB()"
      ]
     },
     "execution_count": 29,
     "metadata": {},
     "output_type": "execute_result"
    }
   ],
   "source": [
    "#4、bayes预估流程\n",
    "mlb = MultinomialNB(alpha=1.0)\n",
    "mlb.fit(x_train,y_train)"
   ]
  },
  {
   "cell_type": "code",
   "execution_count": 30,
   "metadata": {},
   "outputs": [
    {
     "name": "stdout",
     "output_type": "stream",
     "text": [
      "预计每篇文字类别： [ 3 16 10 11  5  1  1  0 15  1 13 13  3  0 10 18 11 11  0 14  8  7 11 17\n",
      " 14 15 16 14 15 10  1  5 18 17  3  3  8 13 17  4 12  9 12  8 17  6 16  8\n",
      " 16 17 10  6 17 16  6  7 15  7  6 15  9  2 13  5 17 17 17  7  4  1  9 17\n",
      "  6 11 13  1 15 13  3  1  7  2 11 11  1 10 10 10  5  1  7 16  1 15  7 12\n",
      "  7  7 10 13]\n",
      "真实类别： [ 3 17 10  8  5  1  5  0 19  1 13 13  3  0 10 18 11 11  0 14  8  7 11 17\n",
      " 14 19  7 14 15 10  1  5 18 17  3  4  8 13 17  4 12  9 12  8 17  6 19  8\n",
      " 19 17 10  6 17 16  6  7 19  7  6  0  9  2 13  5 17 17 17 12  4  1  9 17\n",
      "  6 11 13  1 15 13  3  1  7  2 18  5  2 10 10 10  5  1 12 16  1 15  7 10\n",
      "  7  7  8 13]\n",
      "预测准确率： 0.8379908029713478\n"
     ]
    }
   ],
   "source": [
    "#5、模型预测\n",
    "y_predict = mlb.predict(x_test)\n",
    "print(\"预计每篇文字类别：\",y_predict[:100])\n",
    "print(\"真实类别：\",y_test[:100])\n",
    "print(\"预测准确率：\",mlb.score(x_test,y_test))"
   ]
  },
  {
   "cell_type": "code",
   "execution_count": null,
   "metadata": {},
   "outputs": [],
   "source": []
  }
 ],
 "metadata": {
  "kernelspec": {
   "display_name": "Python 3",
   "language": "python",
   "name": "python3"
  },
  "language_info": {
   "codemirror_mode": {
    "name": "ipython",
    "version": 3
   },
   "file_extension": ".py",
   "mimetype": "text/x-python",
   "name": "python",
   "nbconvert_exporter": "python",
   "pygments_lexer": "ipython3",
   "version": "3.8.5"
  }
 },
 "nbformat": 4,
 "nbformat_minor": 4
}
