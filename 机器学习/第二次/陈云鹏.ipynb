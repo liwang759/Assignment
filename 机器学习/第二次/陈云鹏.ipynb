{
 "cells": [
  {
   "cell_type": "markdown",
   "metadata": {},
   "source": [
    "# 2021.3.30第二次作业"
   ]
  },
  {
   "cell_type": "markdown",
   "metadata": {},
   "source": [
    "# 姓名：陈云鹏"
   ]
  },
  {
   "cell_type": "markdown",
   "metadata": {},
   "source": [
    "# 学号：1841220110"
   ]
  },
  {
   "cell_type": "code",
   "execution_count": 3,
   "metadata": {},
   "outputs": [
    {
     "name": "stdout",
     "output_type": "stream",
     "text": [
      "预测每篇文章的类别： [ 1  6 14 15 14  4  9  5  9 16 17  2  1 14  2  0 17  6  1  3]\n",
      "真实类别为： [ 5  6 14 15 14  4  9  2 12 16 17  1  4 14  3 19 17  6  1  6]\n",
      "预测准确率为： 0.8454191722674212\n"
     ]
    }
   ],
   "source": [
    "from sklearn.datasets import fetch_20newsgroups\n",
    "from sklearn.feature_extraction.text import TfidfVectorizer\n",
    "from sklearn.model_selection import train_test_split\n",
    "from sklearn.naive_bayes import MultinomialNB\n",
    "\n",
    "\n",
    "def demo_knn():\n",
    "    # 获取数据\n",
    "    news = fetch_20newsgroups(subset='all')\n",
    "\n",
    "    # 划分数据集\n",
    "    x_train, x_test, y_train, y_test = train_test_split(news.data, news.target, test_size=0.3)\n",
    "\n",
    "    # 特征抽取\n",
    "    transfor = TfidfVectorizer()\n",
    "\n",
    "    x_train = transfor.fit_transform(x_train)\n",
    "\n",
    "    x_test = transfor.transform(x_test)\n",
    "\n",
    "    # 贝叶斯估计器\n",
    "    bys = MultinomialNB(alpha=1)\n",
    "\n",
    "    bys.fit(x_train, y_train)\n",
    "\n",
    "    # 进行预测\n",
    "    predict = bys.predict(x_test)\n",
    "\n",
    "    print(\"预测每篇文章的类别：\", predict[:20])\n",
    "    print(\"真实类别为：\", y_test[:20])\n",
    "\n",
    "    print(\"预测准确率为：\", bys.score(x_test, y_test))\n",
    "\n",
    "demo_knn()"
   ]
  },
  {
   "cell_type": "code",
   "execution_count": null,
   "metadata": {},
   "outputs": [],
   "source": []
  }
 ],
 "metadata": {
  "kernelspec": {
   "display_name": "Python 3",
   "language": "python",
   "name": "python3"
  },
  "language_info": {
   "codemirror_mode": {
    "name": "ipython",
    "version": 3
   },
   "file_extension": ".py",
   "mimetype": "text/x-python",
   "name": "python",
   "nbconvert_exporter": "python",
   "pygments_lexer": "ipython3",
   "version": "3.8.5"
  }
 },
 "nbformat": 4,
 "nbformat_minor": 4
}
